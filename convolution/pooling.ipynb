{
  "nbformat": 4,
  "nbformat_minor": 0,
  "metadata": {
    "colab": {
      "provenance": [],
      "authorship_tag": "ABX9TyORW5Tyxaa37NpwvchDZEai",
      "include_colab_link": true
    },
    "kernelspec": {
      "name": "python3",
      "display_name": "Python 3"
    },
    "language_info": {
      "name": "python"
    }
  },
  "cells": [
    {
      "cell_type": "markdown",
      "metadata": {
        "id": "view-in-github",
        "colab_type": "text"
      },
      "source": [
        "<a href=\"https://colab.research.google.com/github/qmeng222/CNN/blob/main/convolution/pooling.ipynb\" target=\"_parent\"><img src=\"https://colab.research.google.com/assets/colab-badge.svg\" alt=\"Open In Colab\"/></a>"
      ]
    },
    {
      "cell_type": "code",
      "execution_count": 8,
      "metadata": {
        "id": "_VHE4xYroosE"
      },
      "outputs": [],
      "source": [
        "import torch\n",
        "import torch.nn as nn"
      ]
    },
    {
      "cell_type": "code",
      "source": [
        "# create max-pooling class instances:\n",
        "\n",
        "poolSize = 3\n",
        "stride   = 3\n",
        "\n",
        "p2 = nn.MaxPool2d(poolSize,stride=3)\n",
        "print(p2)\n",
        "\n",
        "p3 = nn.MaxPool3d(poolSize,stride=3)\n",
        "print(p3)"
      ],
      "metadata": {
        "colab": {
          "base_uri": "https://localhost:8080/"
        },
        "id": "i6wwMpFNo0Eb",
        "outputId": "abc38702-2b0d-4f02-8afc-20ea630f9292"
      },
      "execution_count": 9,
      "outputs": [
        {
          "output_type": "stream",
          "name": "stdout",
          "text": [
            "MaxPool2d(kernel_size=3, stride=3, padding=0, dilation=1, ceil_mode=False)\n",
            "MaxPool3d(kernel_size=3, stride=3, padding=0, dilation=1, ceil_mode=False)\n"
          ]
        }
      ]
    },
    {
      "cell_type": "code",
      "source": [
        "# create 2D / 3D images:\n",
        "img2 = torch.randn(1,1,30,30) # grayscale image\n",
        "img3 = torch.randn(1,3,30,30) # color image (RGB)\n",
        "\n",
        "# 1. 2D image, 2D max-pool:\n",
        "img2Pool2 = p2(img2)\n",
        "print(f'2D image, 2D maxpool: {img2Pool2.shape}\\n' )\n",
        "\n",
        "# # 2. 2D iamge, 3D max-pool (NOT WORKING): it's impossible to do a 3D operation on a 2D matrix\n",
        "# img2Pool3 = p3(img2)\n",
        "# print(f'2D image, 3D maxpool: {img2Pool3.shape}\\n' )\n",
        "\n",
        "# 3. 3D image, 2D max-pool:\n",
        "img3Pool2 = p2(img3)\n",
        "print(f'3D image, 2D maxpool: {img3Pool2.shape}\\n' )\n",
        "\n",
        "# 4. 3D image, 3D max-pool:\n",
        "img3Pool3 = p3(img3)\n",
        "print(f'3D image, 3D maxpool: {img3Pool3.shape}\\n' )"
      ],
      "metadata": {
        "colab": {
          "base_uri": "https://localhost:8080/"
        },
        "id": "g5rz3rt9splJ",
        "outputId": "a5d39e37-7f27-42d4-c5f7-f41b7c7e1364"
      },
      "execution_count": 10,
      "outputs": [
        {
          "output_type": "stream",
          "name": "stdout",
          "text": [
            "2D image, 2D maxpool: torch.Size([1, 1, 10, 10])\n",
            "\n",
            "3D image, 2D maxpool: torch.Size([1, 3, 10, 10])\n",
            "\n",
            "3D image, 3D maxpool: torch.Size([1, 1, 10, 10])\n",
            "\n"
          ]
        }
      ]
    },
    {
      "cell_type": "markdown",
      "source": [
        "# Create a simple CNN:"
      ],
      "metadata": {
        "id": "86BE4q5Bv9Ki"
      }
    },
    {
      "cell_type": "code",
      "source": [
        "littlenet = nn.Sequential(\n",
        "    # the conv-pool block:\n",
        "    nn.Conv2d(3,10,5,3,2), # convolution layer (linear), (inChans, outChans, k, s, p)\n",
        "    nn.ReLU(),             # activation function (non-linear)\n",
        "    nn.AvgPool3d(3,3),     # mean-pool (downsampling)\n",
        "\n",
        "    # the FFN block:\n",
        "    nn.Flatten(),          # vectorize\n",
        "    nn.Linear(588,1),      # FC linear layer, 588 is the number of units that comes out of conv-pool block\n",
        "    nn.Sigmoid()           # output activation\n",
        ")"
      ],
      "metadata": {
        "id": "RoTvef7Mv7n1"
      },
      "execution_count": 11,
      "outputs": []
    },
    {
      "cell_type": "code",
      "source": [
        "# a quick test:\n",
        "\n",
        "img = torch.rand(1,3,128,128) # one 128x128 color image\n",
        "littlenet(img)"
      ],
      "metadata": {
        "colab": {
          "base_uri": "https://localhost:8080/"
        },
        "id": "oL_PII8C0_5d",
        "outputId": "940f0c03-0e35-4370-bbaa-f7a7a32a69b6"
      },
      "execution_count": 12,
      "outputs": [
        {
          "output_type": "execute_result",
          "data": {
            "text/plain": [
              "tensor([[0.5265]], grad_fn=<SigmoidBackward0>)"
            ]
          },
          "metadata": {},
          "execution_count": 12
        }
      ]
    },
    {
      "cell_type": "markdown",
      "source": [
        "👆 The final output of this model is just one number!"
      ],
      "metadata": {
        "id": "oi84RQv31m9d"
      }
    }
  ]
}