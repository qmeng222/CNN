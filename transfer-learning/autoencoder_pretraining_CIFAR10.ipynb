{
  "nbformat": 4,
  "nbformat_minor": 0,
  "metadata": {
    "colab": {
      "provenance": [],
      "gpuType": "T4",
      "authorship_tag": "ABX9TyNuw85orKfxtjEGTUB+26Yl",
      "include_colab_link": true
    },
    "kernelspec": {
      "name": "python3",
      "display_name": "Python 3"
    },
    "language_info": {
      "name": "python"
    },
    "accelerator": "GPU"
  },
  "cells": [
    {
      "cell_type": "markdown",
      "metadata": {
        "id": "view-in-github",
        "colab_type": "text"
      },
      "source": [
        "<a href=\"https://colab.research.google.com/github/qmeng222/CNN/blob/main/transfer-learning/autoencoder_pretraining_CIFAR10.ipynb\" target=\"_parent\"><img src=\"https://colab.research.google.com/assets/colab-badge.svg\" alt=\"Open In Colab\"/></a>"
      ]
    },
    {
      "cell_type": "markdown",
      "source": [
        "# Tasks:\n",
        "- import CIFAR-10 (RGB) dataset & create \"full\" / \"small\" subsets\n",
        "- create a CNN autoencoder & train it\n",
        "- transfer the autoencoding layers to a classification model (the CNN layers of the model are the same as the encoder part of the autoencoder, followed by some fully connected linear layers at the end instead of the decoder layers)\n",
        "- train a \"naive\" model (with random weights) to classify\n",
        "- run another model that transfers the encoder weights & fine tune"
      ],
      "metadata": {
        "id": "zXk8tWn8X5G6"
      }
    },
    {
      "cell_type": "code",
      "execution_count": 7,
      "metadata": {
        "id": "STODfnbdVGx8"
      },
      "outputs": [],
      "source": [
        "# for importing data\n",
        "import torchvision\n",
        "import torchvision.transforms as T\n",
        "from torch.utils.data import DataLoader,Subset\n",
        "\n",
        "import numpy as np\n",
        "\n",
        "import torch\n",
        "import torch.nn as nn\n",
        "import torch.nn.functional as F\n",
        "\n",
        "import copy\n",
        "\n",
        "import matplotlib.pyplot as plt\n",
        "import matplotlib_inline as inl\n",
        "inl.backend_inline.set_matplotlib_formats(\"svg\")"
      ]
    },
    {
      "cell_type": "code",
      "source": [
        "# use GPU if available\n",
        "device = torch.device('cuda:0' if torch.cuda.is_available() else 'cpu')"
      ],
      "metadata": {
        "id": "rXka1Hsasd1c"
      },
      "execution_count": 8,
      "outputs": []
    },
    {
      "cell_type": "code",
      "source": [
        "device"
      ],
      "metadata": {
        "colab": {
          "base_uri": "https://localhost:8080/"
        },
        "id": "_rcQSAUDsxjS",
        "outputId": "55affc37-4b56-4de2-dbd8-76cab2a1a5f1"
      },
      "execution_count": 9,
      "outputs": [
        {
          "output_type": "execute_result",
          "data": {
            "text/plain": [
              "device(type='cpu')"
            ]
          },
          "metadata": {},
          "execution_count": 9
        }
      ]
    },
    {
      "cell_type": "markdown",
      "source": [
        "# Import the CIFAR-10 dataset:"
      ],
      "metadata": {
        "id": "q1yCI660s2oW"
      }
    },
    {
      "cell_type": "code",
      "source": [
        "# transformations\n",
        "transform = T.Compose([ T.ToTensor(),\n",
        "                        T.Normalize([.5,.5,.5],[.5,.5,.5])\n",
        "                       ])\n",
        "\n",
        "# import the data and simultaneously apply the transform\n",
        "trainset = torchvision.datasets.CIFAR10(root='./data', train=True,  download=True, transform=transform)\n",
        "testset  = torchvision.datasets.CIFAR10(root='./data', train=False, download=True, transform=transform)\n",
        "\n",
        "# transform to dataloaders\n",
        "batchsize        = 32\n",
        "train_loaderFull = DataLoader(trainset,batch_size=batchsize,shuffle=True,drop_last=True)\n",
        "test_loaderFull  = DataLoader(testset, batch_size=256)"
      ],
      "metadata": {
        "colab": {
          "base_uri": "https://localhost:8080/"
        },
        "id": "LDTt9KqEs1N4",
        "outputId": "0c84dcde-65a9-4b55-f65f-ff86fd80a998"
      },
      "execution_count": 10,
      "outputs": [
        {
          "output_type": "stream",
          "name": "stdout",
          "text": [
            "Files already downloaded and verified\n",
            "Files already downloaded and verified\n"
          ]
        }
      ]
    },
    {
      "cell_type": "code",
      "source": [
        "# Create smaller DataLoaders with only 2k images (used later)\n",
        "\n",
        "trainsetSmall = torch.utils.data.Subset(trainset,range(2000))\n",
        "train_loaderSmall = DataLoader(trainsetSmall,batch_size=batchsize,shuffle=True)\n",
        "\n",
        "testsetSmall = torch.utils.data.Subset(testset,range(2000))\n",
        "test_loaderSmall = DataLoader(testsetSmall,batch_size=batchsize,shuffle=True)"
      ],
      "metadata": {
        "id": "xCXrLF7stDuV"
      },
      "execution_count": 11,
      "outputs": []
    },
    {
      "cell_type": "code",
      "source": [
        "# inspect a few random images\n",
        "\n",
        "X,y = next(iter(train_loaderSmall))\n",
        "\n",
        "fig,axs = plt.subplots(4,4,figsize=(10,10))\n",
        "\n",
        "for (i,ax) in enumerate(axs.flatten()):\n",
        "\n",
        "  # extract that image (need to transpose it back to 32x32x3)\n",
        "  pic = X.data[i].numpy().transpose((1,2,0))\n",
        "  pic = pic/2 + .5 # undo normalization\n",
        "\n",
        "  # and its label\n",
        "  label = trainset.classes[y[i]]\n",
        "\n",
        "  # and show!\n",
        "  ax.imshow(pic)\n",
        "  ax.text(16,0,label,ha='center',fontweight='bold',color='k',backgroundcolor='y')\n",
        "  ax.axis('off')\n",
        "\n",
        "plt.tight_layout()\n",
        "plt.show()"
      ],
      "metadata": {
        "colab": {
          "base_uri": "https://localhost:8080/",
          "height": 970
        },
        "id": "6IKgGjWAtFAk",
        "outputId": "9b4d216e-e815-488f-c6a1-01c8fd8bccf4"
      },
      "execution_count": 12,
      "outputs": [
        {
          "output_type": "display_data",
          "data": {
            "text/plain": [
              "<Figure size 1000x1000 with 16 Axes>"
            ],
            "image/svg+xml": "<?xml version=\"1.0\" encoding=\"utf-8\" standalone=\"no\"?>\n<!DOCTYPE svg PUBLIC \"-//W3C//DTD SVG 1.1//EN\"\n  \"http://www.w3.org/Graphics/SVG/1.1/DTD/svg11.dtd\">\n<svg xmlns:xlink=\"http://www.w3.org/1999/xlink\" width=\"706.176196pt\" height=\"711.854353pt\" viewBox=\"0 0 706.176196 711.854353\" xmlns=\"http://www.w3.org/2000/svg\" version=\"1.1\">\n <metadata>\n  <rdf:RDF xmlns:dc=\"http://purl.org/dc/elements/1.1/\" xmlns:cc=\"http://creativecommons.org/ns#\" xmlns:rdf=\"http://www.w3.org/1999/02/22-rdf-syntax-ns#\">\n   <cc:Work>\n    <dc:type rdf:resource=\"http://purl.org/dc/dcmitype/StillImage\"/>\n    <dc:date>2023-10-09T04:50:01.178778</dc:date>\n    <dc:format>image/svg+xml</dc:format>\n    <dc:creator>\n     <cc:Agent>\n      <dc:title>Matplotlib v3.7.1, https://matplotlib.org/</dc:title>\n     </cc:Agent>\n    </dc:creator>\n   </cc:Work>\n  </rdf:RDF>\n </metadata>\n <defs>\n  <style type=\"text/css\">*{stroke-linejoin: round; stroke-linecap: butt}</style>\n </defs>\n <g id=\"figure_1\">\n  <g id=\"patch_1\">\n   <path d=\"M 0 711.854353 \nL 706.176196 711.854353 \nL 706.176196 0 \nL 0 0 \nz\n\" style=\"fill: #ffffff\"/>\n  </g>\n  <g id=\"axes_1\">\n   <g clip-path=\"url(#pe97092b6df)\">\n    <image xlink:href=\"data:image/png;base64,\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\" id=\"image251993b9b3\" transform=\"scale(1 -1) translate(0 -160.56)\" x=\"7.2\" y=\"-12.194353\" width=\"160.56\" height=\"160.56\"/>\n   </g>\n   <g id=\"text_1\">\n    <g id=\"patch_2\">\n     <path d=\"M 77.210688 20.878125 \nL 102.666938 20.878125 \nL 102.666938 3.2 \nL 77.210688 3.2 \nz\n\" style=\"fill: #bfbf00; stroke: #bfbf00; stroke-linejoin: miter\"/>\n    </g>\n    <!-- cat -->\n    <g transform=\"translate(81.210688 14.798437) scale(0.1 -0.1)\">\n     <defs>\n      <path id=\"DejaVuSans-Bold-63\" d=\"M 3366 3391 \nL 3366 2478 \nQ 3138 2634 2908 2709 \nQ 2678 2784 2431 2784 \nQ 1963 2784 1702 2511 \nQ 1441 2238 1441 1747 \nQ 1441 1256 1702 982 \nQ 1963 709 2431 709 \nQ 2694 709 2930 787 \nQ 3166 866 3366 1019 \nL 3366 103 \nQ 3103 6 2833 -42 \nQ 2563 -91 2291 -91 \nQ 1344 -91 809 395 \nQ 275 881 275 1747 \nQ 275 2613 809 3098 \nQ 1344 3584 2291 3584 \nQ 2566 3584 2833 3536 \nQ 3100 3488 3366 3391 \nz\n\" transform=\"scale(0.015625)\"/>\n      <path id=\"DejaVuSans-Bold-61\" d=\"M 2106 1575 \nQ 1756 1575 1579 1456 \nQ 1403 1338 1403 1106 \nQ 1403 894 1545 773 \nQ 1688 653 1941 653 \nQ 2256 653 2472 879 \nQ 2688 1106 2688 1447 \nL 2688 1575 \nL 2106 1575 \nz\nM 3816 1997 \nL 3816 0 \nL 2688 0 \nL 2688 519 \nQ 2463 200 2181 54 \nQ 1900 -91 1497 -91 \nQ 953 -91 614 226 \nQ 275 544 275 1050 \nQ 275 1666 698 1953 \nQ 1122 2241 2028 2241 \nL 2688 2241 \nL 2688 2328 \nQ 2688 2594 2478 2717 \nQ 2269 2841 1825 2841 \nQ 1466 2841 1156 2769 \nQ 847 2697 581 2553 \nL 581 3406 \nQ 941 3494 1303 3539 \nQ 1666 3584 2028 3584 \nQ 2975 3584 3395 3211 \nQ 3816 2838 3816 1997 \nz\n\" transform=\"scale(0.015625)\"/>\n      <path id=\"DejaVuSans-Bold-74\" d=\"M 1759 4494 \nL 1759 3500 \nL 2913 3500 \nL 2913 2700 \nL 1759 2700 \nL 1759 1216 \nQ 1759 972 1856 886 \nQ 1953 800 2241 800 \nL 2816 800 \nL 2816 0 \nL 1856 0 \nQ 1194 0 917 276 \nQ 641 553 641 1216 \nL 641 2700 \nL 84 2700 \nL 84 3500 \nL 641 3500 \nL 641 4494 \nL 1759 4494 \nz\n\" transform=\"scale(0.015625)\"/>\n     </defs>\n     <use xlink:href=\"#DejaVuSans-Bold-63\"/>\n     <use xlink:href=\"#DejaVuSans-Bold-61\" x=\"59.277344\"/>\n     <use xlink:href=\"#DejaVuSans-Bold-74\" x=\"126.757812\"/>\n    </g>\n   </g>\n  </g>\n  <g id=\"axes_2\">\n   <g clip-path=\"url(#p4bc9abd643)\">\n    <image xlink:href=\"data:image/png;base64,\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\" id=\"image7175b2166a\" transform=\"scale(1 -1) translate(0 -160.56)\" x=\"184.304348\" y=\"-12.194353\" width=\"160.56\" height=\"160.56\"/>\n   </g>\n   <g id=\"text_2\">\n    <g id=\"patch_3\">\n     <path d=\"M 231.240817 20.878125 \nL 302.845504 20.878125 \nL 302.845504 3.2 \nL 231.240817 3.2 \nz\n\" style=\"fill: #bfbf00; stroke: #bfbf00; stroke-linejoin: miter\"/>\n    </g>\n    <!-- automobile -->\n    <g transform=\"translate(235.240817 14.798437) scale(0.1 -0.1)\">\n     <defs>\n      <path id=\"DejaVuSans-Bold-75\" d=\"M 500 1363 \nL 500 3500 \nL 1625 3500 \nL 1625 3150 \nQ 1625 2866 1622 2436 \nQ 1619 2006 1619 1863 \nQ 1619 1441 1641 1255 \nQ 1663 1069 1716 984 \nQ 1784 875 1895 815 \nQ 2006 756 2150 756 \nQ 2500 756 2700 1025 \nQ 2900 1294 2900 1772 \nL 2900 3500 \nL 4019 3500 \nL 4019 0 \nL 2900 0 \nL 2900 506 \nQ 2647 200 2364 54 \nQ 2081 -91 1741 -91 \nQ 1134 -91 817 281 \nQ 500 653 500 1363 \nz\n\" transform=\"scale(0.015625)\"/>\n      <path id=\"DejaVuSans-Bold-6f\" d=\"M 2203 2784 \nQ 1831 2784 1636 2517 \nQ 1441 2250 1441 1747 \nQ 1441 1244 1636 976 \nQ 1831 709 2203 709 \nQ 2569 709 2762 976 \nQ 2956 1244 2956 1747 \nQ 2956 2250 2762 2517 \nQ 2569 2784 2203 2784 \nz\nM 2203 3584 \nQ 3106 3584 3614 3096 \nQ 4122 2609 4122 1747 \nQ 4122 884 3614 396 \nQ 3106 -91 2203 -91 \nQ 1297 -91 786 396 \nQ 275 884 275 1747 \nQ 275 2609 786 3096 \nQ 1297 3584 2203 3584 \nz\n\" transform=\"scale(0.015625)\"/>\n      <path id=\"DejaVuSans-Bold-6d\" d=\"M 3781 2919 \nQ 3994 3244 4286 3414 \nQ 4578 3584 4928 3584 \nQ 5531 3584 5847 3212 \nQ 6163 2841 6163 2131 \nL 6163 0 \nL 5038 0 \nL 5038 1825 \nQ 5041 1866 5042 1909 \nQ 5044 1953 5044 2034 \nQ 5044 2406 4934 2573 \nQ 4825 2741 4581 2741 \nQ 4263 2741 4089 2478 \nQ 3916 2216 3909 1719 \nL 3909 0 \nL 2784 0 \nL 2784 1825 \nQ 2784 2406 2684 2573 \nQ 2584 2741 2328 2741 \nQ 2006 2741 1831 2477 \nQ 1656 2213 1656 1722 \nL 1656 0 \nL 531 0 \nL 531 3500 \nL 1656 3500 \nL 1656 2988 \nQ 1863 3284 2130 3434 \nQ 2397 3584 2719 3584 \nQ 3081 3584 3359 3409 \nQ 3638 3234 3781 2919 \nz\n\" transform=\"scale(0.015625)\"/>\n      <path id=\"DejaVuSans-Bold-62\" d=\"M 2400 722 \nQ 2759 722 2948 984 \nQ 3138 1247 3138 1747 \nQ 3138 2247 2948 2509 \nQ 2759 2772 2400 2772 \nQ 2041 2772 1848 2508 \nQ 1656 2244 1656 1747 \nQ 1656 1250 1848 986 \nQ 2041 722 2400 722 \nz\nM 1656 2988 \nQ 1888 3294 2169 3439 \nQ 2450 3584 2816 3584 \nQ 3463 3584 3878 3070 \nQ 4294 2556 4294 1747 \nQ 4294 938 3878 423 \nQ 3463 -91 2816 -91 \nQ 2450 -91 2169 54 \nQ 1888 200 1656 506 \nL 1656 0 \nL 538 0 \nL 538 4863 \nL 1656 4863 \nL 1656 2988 \nz\n\" transform=\"scale(0.015625)\"/>\n      <path id=\"DejaVuSans-Bold-69\" d=\"M 538 3500 \nL 1656 3500 \nL 1656 0 \nL 538 0 \nL 538 3500 \nz\nM 538 4863 \nL 1656 4863 \nL 1656 3950 \nL 538 3950 \nL 538 4863 \nz\n\" transform=\"scale(0.015625)\"/>\n      <path id=\"DejaVuSans-Bold-6c\" d=\"M 538 4863 \nL 1656 4863 \nL 1656 0 \nL 538 0 \nL 538 4863 \nz\n\" transform=\"scale(0.015625)\"/>\n      <path id=\"DejaVuSans-Bold-65\" d=\"M 4031 1759 \nL 4031 1441 \nL 1416 1441 \nQ 1456 1047 1700 850 \nQ 1944 653 2381 653 \nQ 2734 653 3104 758 \nQ 3475 863 3866 1075 \nL 3866 213 \nQ 3469 63 3072 -14 \nQ 2675 -91 2278 -91 \nQ 1328 -91 801 392 \nQ 275 875 275 1747 \nQ 275 2603 792 3093 \nQ 1309 3584 2216 3584 \nQ 3041 3584 3536 3087 \nQ 4031 2591 4031 1759 \nz\nM 2881 2131 \nQ 2881 2450 2695 2645 \nQ 2509 2841 2209 2841 \nQ 1884 2841 1681 2658 \nQ 1478 2475 1428 2131 \nL 2881 2131 \nz\n\" transform=\"scale(0.015625)\"/>\n     </defs>\n     <use xlink:href=\"#DejaVuSans-Bold-61\"/>\n     <use xlink:href=\"#DejaVuSans-Bold-75\" x=\"67.480469\"/>\n     <use xlink:href=\"#DejaVuSans-Bold-74\" x=\"138.671875\"/>\n     <use xlink:href=\"#DejaVuSans-Bold-6f\" x=\"186.474609\"/>\n     <use xlink:href=\"#DejaVuSans-Bold-6d\" x=\"255.175781\"/>\n     <use xlink:href=\"#DejaVuSans-Bold-6f\" x=\"359.375\"/>\n     <use xlink:href=\"#DejaVuSans-Bold-62\" x=\"428.076172\"/>\n     <use xlink:href=\"#DejaVuSans-Bold-69\" x=\"499.658203\"/>\n     <use xlink:href=\"#DejaVuSans-Bold-6c\" x=\"533.935547\"/>\n     <use xlink:href=\"#DejaVuSans-Bold-65\" x=\"568.212891\"/>\n    </g>\n   </g>\n  </g>\n  <g id=\"axes_3\">\n   <g clip-path=\"url(#pe427c913d7)\">\n    <image xlink:href=\"data:image/png;base64,\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\" id=\"imageaa2b1b0579\" transform=\"scale(1 -1) translate(0 -160.56)\" x=\"361.408696\" y=\"-12.194353\" width=\"160.56\" height=\"160.56\"/>\n   </g>\n   <g id=\"text_3\">\n    <g id=\"patch_4\">\n     <path d=\"M 429.55454 20.95625 \nL 458.740477 20.95625 \nL 458.740477 3.2 \nL 429.55454 3.2 \nz\n\" style=\"fill: #bfbf00; stroke: #bfbf00; stroke-linejoin: miter\"/>\n    </g>\n    <!-- dog -->\n    <g transform=\"translate(433.55454 14.798437) scale(0.1 -0.1)\">\n     <defs>\n      <path id=\"DejaVuSans-Bold-64\" d=\"M 2919 2988 \nL 2919 4863 \nL 4044 4863 \nL 4044 0 \nL 2919 0 \nL 2919 506 \nQ 2688 197 2409 53 \nQ 2131 -91 1766 -91 \nQ 1119 -91 703 423 \nQ 288 938 288 1747 \nQ 288 2556 703 3070 \nQ 1119 3584 1766 3584 \nQ 2128 3584 2408 3439 \nQ 2688 3294 2919 2988 \nz\nM 2181 722 \nQ 2541 722 2730 984 \nQ 2919 1247 2919 1747 \nQ 2919 2247 2730 2509 \nQ 2541 2772 2181 2772 \nQ 1825 2772 1636 2509 \nQ 1447 2247 1447 1747 \nQ 1447 1247 1636 984 \nQ 1825 722 2181 722 \nz\n\" transform=\"scale(0.015625)\"/>\n      <path id=\"DejaVuSans-Bold-67\" d=\"M 2919 594 \nQ 2688 288 2409 144 \nQ 2131 0 1766 0 \nQ 1125 0 706 504 \nQ 288 1009 288 1791 \nQ 288 2575 706 3076 \nQ 1125 3578 1766 3578 \nQ 2131 3578 2409 3434 \nQ 2688 3291 2919 2981 \nL 2919 3500 \nL 4044 3500 \nL 4044 353 \nQ 4044 -491 3511 -936 \nQ 2978 -1381 1966 -1381 \nQ 1638 -1381 1331 -1331 \nQ 1025 -1281 716 -1178 \nL 716 -306 \nQ 1009 -475 1290 -558 \nQ 1572 -641 1856 -641 \nQ 2406 -641 2662 -400 \nQ 2919 -159 2919 353 \nL 2919 594 \nz\nM 2181 2772 \nQ 1834 2772 1640 2515 \nQ 1447 2259 1447 1791 \nQ 1447 1309 1634 1061 \nQ 1822 813 2181 813 \nQ 2531 813 2725 1069 \nQ 2919 1325 2919 1791 \nQ 2919 2259 2725 2515 \nQ 2531 2772 2181 2772 \nz\n\" transform=\"scale(0.015625)\"/>\n     </defs>\n     <use xlink:href=\"#DejaVuSans-Bold-64\"/>\n     <use xlink:href=\"#DejaVuSans-Bold-6f\" x=\"71.582031\"/>\n     <use xlink:href=\"#DejaVuSans-Bold-67\" x=\"140.283203\"/>\n    </g>\n   </g>\n  </g>\n  <g id=\"axes_4\">\n   <g clip-path=\"url(#p71494dc663)\">\n    <image xlink:href=\"data:image/png;base64,\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\" id=\"imagec3d4d6d3c3\" transform=\"scale(1 -1) translate(0 -160.56)\" x=\"538.513043\" y=\"-12.194353\" width=\"160.56\" height=\"160.56\"/>\n   </g>\n   <g id=\"text_4\">\n    <g id=\"patch_5\">\n     <path d=\"M 604.424513 20.878125 \nL 638.0792 20.878125 \nL 638.0792 3.2 \nL 604.424513 3.2 \nz\n\" style=\"fill: #bfbf00; stroke: #bfbf00; stroke-linejoin: miter\"/>\n    </g>\n    <!-- deer -->\n    <g transform=\"translate(608.424513 14.798437) scale(0.1 -0.1)\">\n     <defs>\n      <path id=\"DejaVuSans-Bold-72\" d=\"M 3138 2547 \nQ 2991 2616 2845 2648 \nQ 2700 2681 2553 2681 \nQ 2122 2681 1889 2404 \nQ 1656 2128 1656 1613 \nL 1656 0 \nL 538 0 \nL 538 3500 \nL 1656 3500 \nL 1656 2925 \nQ 1872 3269 2151 3426 \nQ 2431 3584 2822 3584 \nQ 2878 3584 2943 3579 \nQ 3009 3575 3134 3559 \nL 3138 2547 \nz\n\" transform=\"scale(0.015625)\"/>\n     </defs>\n     <use xlink:href=\"#DejaVuSans-Bold-64\"/>\n     <use xlink:href=\"#DejaVuSans-Bold-65\" x=\"71.582031\"/>\n     <use xlink:href=\"#DejaVuSans-Bold-65\" x=\"139.404297\"/>\n     <use xlink:href=\"#DejaVuSans-Bold-72\" x=\"207.226562\"/>\n    </g>\n   </g>\n  </g>\n  <g id=\"axes_5\">\n   <g clip-path=\"url(#p6120b33ed4)\">\n    <image xlink:href=\"data:image/png;base64,\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\" id=\"imageb54cac4ba4\" transform=\"scale(1 -1) translate(0 -160.56)\" x=\"7.2\" y=\"-189.494353\" width=\"160.56\" height=\"160.56\"/>\n   </g>\n   <g id=\"text_5\">\n    <g id=\"patch_6\">\n     <path d=\"M 74.284125 198.25625 \nL 105.5935 198.25625 \nL 105.5935 180.5 \nL 74.284125 180.5 \nz\n\" style=\"fill: #bfbf00; stroke: #bfbf00; stroke-linejoin: miter\"/>\n    </g>\n    <!-- frog -->\n    <g transform=\"translate(78.284125 192.098437) scale(0.1 -0.1)\">\n     <defs>\n      <path id=\"DejaVuSans-Bold-66\" d=\"M 2841 4863 \nL 2841 4128 \nL 2222 4128 \nQ 1984 4128 1890 4042 \nQ 1797 3956 1797 3744 \nL 1797 3500 \nL 2753 3500 \nL 2753 2700 \nL 1797 2700 \nL 1797 0 \nL 678 0 \nL 678 2700 \nL 122 2700 \nL 122 3500 \nL 678 3500 \nL 678 3744 \nQ 678 4316 997 4589 \nQ 1316 4863 1984 4863 \nL 2841 4863 \nz\n\" transform=\"scale(0.015625)\"/>\n     </defs>\n     <use xlink:href=\"#DejaVuSans-Bold-66\"/>\n     <use xlink:href=\"#DejaVuSans-Bold-72\" x=\"43.505859\"/>\n     <use xlink:href=\"#DejaVuSans-Bold-6f\" x=\"92.822266\"/>\n     <use xlink:href=\"#DejaVuSans-Bold-67\" x=\"161.523438\"/>\n    </g>\n   </g>\n  </g>\n  <g id=\"axes_6\">\n   <g clip-path=\"url(#p8642068d96)\">\n    <image xlink:href=\"data:image/png;base64,\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\" id=\"image29bfbd96a2\" transform=\"scale(1 -1) translate(0 -160.56)\" x=\"184.304348\" y=\"-189.494353\" width=\"160.56\" height=\"160.56\"/>\n   </g>\n   <g id=\"text_6\">\n    <g id=\"patch_7\">\n     <path d=\"M 251.705661 198.178125 \nL 282.380661 198.178125 \nL 282.380661 180.5 \nL 251.705661 180.5 \nz\n\" style=\"fill: #bfbf00; stroke: #bfbf00; stroke-linejoin: miter\"/>\n    </g>\n    <!-- bird -->\n    <g transform=\"translate(255.705661 192.098437) scale(0.1 -0.1)\">\n     <use xlink:href=\"#DejaVuSans-Bold-62\"/>\n     <use xlink:href=\"#DejaVuSans-Bold-69\" x=\"71.582031\"/>\n     <use xlink:href=\"#DejaVuSans-Bold-72\" x=\"105.859375\"/>\n     <use xlink:href=\"#DejaVuSans-Bold-64\" x=\"155.175781\"/>\n    </g>\n   </g>\n  </g>\n  <g id=\"axes_7\">\n   <g clip-path=\"url(#pe45ac505ae)\">\n    <image xlink:href=\"data:image/png;base64,\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\" id=\"image986d560067\" transform=\"scale(1 -1) translate(0 -160.56)\" x=\"361.408696\" y=\"-189.494353\" width=\"160.56\" height=\"160.56\"/>\n   </g>\n   <g id=\"text_7\">\n    <g id=\"patch_8\">\n     <path d=\"M 427.320165 198.178125 \nL 460.974852 198.178125 \nL 460.974852 180.5 \nL 427.320165 180.5 \nz\n\" style=\"fill: #bfbf00; stroke: #bfbf00; stroke-linejoin: miter\"/>\n    </g>\n    <!-- deer -->\n    <g transform=\"translate(431.320165 192.098437) scale(0.1 -0.1)\">\n     <use xlink:href=\"#DejaVuSans-Bold-64\"/>\n     <use xlink:href=\"#DejaVuSans-Bold-65\" x=\"71.582031\"/>\n     <use xlink:href=\"#DejaVuSans-Bold-65\" x=\"139.404297\"/>\n     <use xlink:href=\"#DejaVuSans-Bold-72\" x=\"207.226562\"/>\n    </g>\n   </g>\n  </g>\n  <g id=\"axes_8\">\n   <g clip-path=\"url(#pd8bdf544d1)\">\n    <image xlink:href=\"data:image/png;base64,\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\" id=\"image892f4157c0\" transform=\"scale(1 -1) translate(0 -160.56)\" x=\"538.513043\" y=\"-189.494353\" width=\"160.56\" height=\"160.56\"/>\n   </g>\n   <g id=\"text_8\">\n    <g id=\"patch_9\">\n     <path d=\"M 602.54795 198.178125 \nL 639.955763 198.178125 \nL 639.955763 180.5 \nL 602.54795 180.5 \nz\n\" style=\"fill: #bfbf00; stroke: #bfbf00; stroke-linejoin: miter\"/>\n    </g>\n    <!-- truck -->\n    <g transform=\"translate(606.54795 192.098437) scale(0.1 -0.1)\">\n     <defs>\n      <path id=\"DejaVuSans-Bold-6b\" d=\"M 538 4863 \nL 1656 4863 \nL 1656 2216 \nL 2944 3500 \nL 4244 3500 \nL 2534 1894 \nL 4378 0 \nL 3022 0 \nL 1656 1459 \nL 1656 0 \nL 538 0 \nL 538 4863 \nz\n\" transform=\"scale(0.015625)\"/>\n     </defs>\n     <use xlink:href=\"#DejaVuSans-Bold-74\"/>\n     <use xlink:href=\"#DejaVuSans-Bold-72\" x=\"47.802734\"/>\n     <use xlink:href=\"#DejaVuSans-Bold-75\" x=\"97.119141\"/>\n     <use xlink:href=\"#DejaVuSans-Bold-63\" x=\"168.310547\"/>\n     <use xlink:href=\"#DejaVuSans-Bold-6b\" x=\"227.587891\"/>\n    </g>\n   </g>\n  </g>\n  <g id=\"axes_9\">\n   <g clip-path=\"url(#p7ef512beef)\">\n    <image xlink:href=\"data:image/png;base64,\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\" id=\"image4f434bcbe6\" transform=\"scale(1 -1) translate(0 -160.56)\" x=\"7.2\" y=\"-366.794353\" width=\"160.56\" height=\"160.56\"/>\n   </g>\n   <g id=\"text_9\">\n    <g id=\"patch_10\">\n     <path d=\"M 77.210688 375.478125 \nL 102.666938 375.478125 \nL 102.666938 357.8 \nL 77.210688 357.8 \nz\n\" style=\"fill: #bfbf00; stroke: #bfbf00; stroke-linejoin: miter\"/>\n    </g>\n    <!-- cat -->\n    <g transform=\"translate(81.210688 369.398438) scale(0.1 -0.1)\">\n     <use xlink:href=\"#DejaVuSans-Bold-63\"/>\n     <use xlink:href=\"#DejaVuSans-Bold-61\" x=\"59.277344\"/>\n     <use xlink:href=\"#DejaVuSans-Bold-74\" x=\"126.757812\"/>\n    </g>\n   </g>\n  </g>\n  <g id=\"axes_10\">\n   <g clip-path=\"url(#pc4f611c91d)\">\n    <image xlink:href=\"data:image/png;base64,\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\" id=\"image77cfc37c96\" transform=\"scale(1 -1) translate(0 -160.56)\" x=\"184.304348\" y=\"-366.794353\" width=\"160.56\" height=\"160.56\"/>\n   </g>\n   <g id=\"text_10\">\n    <g id=\"patch_11\">\n     <path d=\"M 250.215817 375.478125 \nL 283.870504 375.478125 \nL 283.870504 357.8 \nL 250.215817 357.8 \nz\n\" style=\"fill: #bfbf00; stroke: #bfbf00; stroke-linejoin: miter\"/>\n    </g>\n    <!-- deer -->\n    <g transform=\"translate(254.215817 369.398438) scale(0.1 -0.1)\">\n     <use xlink:href=\"#DejaVuSans-Bold-64\"/>\n     <use xlink:href=\"#DejaVuSans-Bold-65\" x=\"71.582031\"/>\n     <use xlink:href=\"#DejaVuSans-Bold-65\" x=\"139.404297\"/>\n     <use xlink:href=\"#DejaVuSans-Bold-72\" x=\"207.226562\"/>\n    </g>\n   </g>\n  </g>\n  <g id=\"axes_11\">\n   <g clip-path=\"url(#pc020460b06)\">\n    <image xlink:href=\"data:image/png;base64,\niVBORw0KGgoAAAANSUhEUgAAAN8AAADfCAYAAAB2+QYsAAAPYElEQVR4nO3d23IcVxXG8d3de2Y00siWZCt2FDu2EzsOSQEVAgkUXHABvBF3PAtPwQWXFFxxQxVUCCEhZeeALUexdbAOc+puXmC+D+h4tETx/116Vfd0j3p5qtbqvVfxy1/9uk1CXc9UKOVcydh8ro8rZCSlftXTwUIfWTdNt2sx5yyrUsYa83nmlCnJbzqleV2bwxYf2DbmhEZR6nubz+Yy1uv1ZSznLGO1uTenNvc3nZvvy3wtpbnOxj6d2sDkQmueFf1XALBUJB8QhOQDgpB8QBCSDwhC8gFB8nx2JoNNrcuk9cyU6Qtdeu3ranVq6qmMzea6fjxzpexKH1fqqnOaTXSLwv2fNVwZ6Uup9M2vmtZGPVt8LePxWB4zneqWQc76s4rCtBP6Q3NO02qYTGTM3YNrTPX6+nt2/Z5eT7ezyko/t6XtIenntjHPJr98QBCSDwhC8gFBSD4gCMkHBCH5gCB5PD6RwcK0DMpCl5YL85Z30dPlavd/wXSuy9VnJjYarcrYSjal/xVdWnarIdwb/PO5LknXZjWBWmkwmehW0KVLmzLW76/o63Cl8cq0l8xKiSLp56Eqdem/KM1x5m9nV6uY63SxujZ/n9qtjjE5JCMAlorkA4KQfEAQkg8IQvIBQUg+IEhuTP4VbsefQsfGM/2menOmWxTZtCEKV1o2m+nMZ/o63b3n5K7TlKsL3fZwGz25zYJ6g8WtgbX1y/KYgVmBUJvVKm5FgOk0pNK1BXpmlYv5u6qNo1LybY/W7KA0m+m/z8w8K525zZxe/KcB+E+QfEAQkg8IQvIBQUg+IAjJBwTJ45kuOw8GAxmrsn4bvZ3rN8DrqW5DlI0+zsUGrdns6EzXeifTpzJWZ/Om+sy0PZL+XnKpv0+3qVHuL2579MW/p5TSbKo3xpqZFRRlYf4/Ls1qDjMTw3ErECrznbRutkWrn+nGrCypzAqExrSCGrO5l5uLwS8fEITkA4KQfEAQkg8IQvIBQUg+IEiezMyI4NZspjPV5dzJ2JS5nx/q2NlzGRuPj/TnnR3LmJs30ZS67JzNBkquZVAk054p9cZF2y+9JGPXrl9f+O/tcE0e4/5frVo3d8C1E8z/1eaUhQm68n5d6xJ+azY0su2L0jwP5px2boRru7mVGebTACwRyQcEIfmAICQfEITkA4KQfECQ3CZd/j4+0XMczs5OZezwcF/Gnj/bk7H9p1/q446+krFkxkmbF9xT2ZpyvBnT3DRufLX+XtZG+rv++c9+IWPFfPG8iUeffyGPWV+/JGOrQz2/IlW6VdIUOmb2LErZzO5oGvc96z9ez86GMMyFto1urRVmRYdbuVCbz+OXDwhC8gFBSD4gCMkHBCH5gCAkHxAkj81GO02jN8UpCl0G7q+YDYbMpjhzs/FSMhvYZLvfv9kIqdiSscsbN2WsGuiNi44Pd2XsyqaeE7B9VbcGmnrx3+jJ44fymE/+pleBbG3pGQ+j9Q0ZWx3p72u4omdDDMSsiZT8CgTXM5gl/fy1pn3h2hBupYTZrynNzUlbNlACLh6SDwhC8gFBSD4gCMkHBCH5gCC5metNi4pWl177ZpbB3okucz/e/VrGxidm45tmU8ZmpgycKr25zeroVRkrVm7IWG91JGOX87aMtbMPZWzQ1ysGVgaL2xDPj3W5ffdr3UJ69tyMoK70/Ipe9ZGMVeatfzdC3LUaavP8VT39fb12676MrZo2mF57kdJgoP/mjdkkaWZaZPzyAUFIPiAIyQcEIfmAICQfEITkA4LktZ4usJalfnt/bMr7E72/UFrZvCtjg0v6zfhiokvSbW3GB5sNlIYretbBzs41fc5Cr/YYH+i5EVWlv88nj/TmUSuri6/ldKLL7al/R4bKVT0Xoqx0aXw+1W2io1PdXjqb6Pkck4n+vsZjfdyrO7r11B/q77kxGxpNJmZVTWVW+JiVC6YLwS8fEIXkA4KQfEAQkg8IQvIBQUg+IEgerq3L4Ny8kb3a022BH/30LRn7+DN9MZ8/1HMOzo7MqGkzhnpzQ5fj33/3noxd2dJvvx+bWRT1iW5fTHU1Pu19pVc85P7ijZeODvQJi55eldEmvVlTbcZa94e6RbGxpsv0m9nNttDzQI4O9CyK11/Xqwxu39GrVR4+fCRjVV9v9NSatpvrJ+Ssj+OXDwhC8gFBSD4gCMkHBCH5gCAkHxAkjy6bVoOZndCa8cE7N16WseG6nhMwnegy8F7WZfWDZ3o+QjXSZeArN3S5+v5dXap/8k89ovrJZ/p72di4ImO9VT2qee+rBwv//eadq/KYldVXZOzQbLx0cqrbAuNZt1HZZdaft7Kqn7/hUK8sOT01I8vHeibGgWlZpVav8PnWW/p5aJqxPiVjoYGLh+QDgpB8QBCSDwhC8gFBSD4gSL522YzQrXXpdWZGRo/qPRm787Z+4/zw6TMZW+np69ze1u2LgwO9MdHv/vCBjO3u6hUWQzPm+ONP9OyLtaFeKXF1+7sytvPWdxb++41XdDthONAtj5nZtOjoUMf2v9b3tr+vW0EnJ7q8P5/pNsSs1O2Xs9OPZeyvH+qZEk+e6DZEr6dXILxiWjAr+jJTVZoNyvRhAJaJ5AOCkHxAEJIPCELyAUFIPiBIriZ6DPB8ot/Wrsz+9MdPdMugynrIQzHVZe6TA33c6/e+L2P9O9dl7OkzXR7f3dP3npMuV1cDvdJg/1TPHvjqgX5Lf0WMMt59qmcnXN3SrYZB1ve2c01f/63br8tYv69L6vv7+jofPXoiY1tmdsfeY93u+ejTP8rYzmt6Vsjd196Rsc1N3Ya4+rLeNGt1Td8Dv3xAEJIPCELyAUFIPiAIyQcEIfmAIPn4VL+9v3FlS8Yub+qxvD1RGk8ppWze7P/JD/Uo4+sv6c2cno91u2Tntm419NZuydiDT3W75LN/6NL5+OxAxppal9Vru9Jg8SY8B4/0m/YPsxl/PNYtlpz1K/q373xbxq6alSXDVV2mzz29idVwQ7c93r2lV8dcu/c9Gdt4aUPG3n7jpoxtjXQrpRrq37Ays6oBuHBIPiAIyQcEIfmAICQfEITkA4LkN955TwbvvXlfxi5vbuizFjpUF3rDnLrtydh3fqDf0n9+qjfoqc3I3qKvz1kkPfr5udlkaGvbbFw025Cx4xNdkn72dPFqiJMjvbqinekNrrZGekXAwYHe/OrLR7+Xsaf7uvU0yDq2tbGjz/mFvr/CzFW48qoee331pmmRuZaImfkx1QtuUjPTQX75gCAkHxCE5AOCkHxAEJIPCELyAUHym+/9WAfN3vWTQvcT3ChcV/pvk165UAz06otLurqfykK3LwqzCdS739Ul8OFA38PclMDXLuk3+M9Ma+CLzxePyz56qtshH/zpzzJ2LFoXKaW0tamvsSp12XzQ09c/mT6WsXXT9nh5R29MdHCi2z133tyWsdt3N2Ss6Oln+misn81GPw6pbfU5+eUDgpB8QBCSDwhC8gFBSD4gSD5LuqLZjHV1qyq65W3b6s8rSlMZKnW1KbX6Ze2i1ucskj5uUOmq5b27N2TswZd6n5bDI11lzAO9rfjj3d2F/76xti6PMUXldHamX1j+wTvvy9hrt/Qk3IND/UL2ZKq3wr+6rV+CHpmpyW9f1/v9vPKqvs6y0s/0WH8tqUz6eahNdb81zya/fEAQkg8IQvIBQUg+IAjJBwQh+YAgxW//fiTrpO3ctBrMRi1mC5dkqrL2RedUmAMbXc51V1OYl15trT7r6zyZ6JbIJ59+KWMff/JAxh4/XtxqWB3orfc3R/oF6Ts39Vbr9+/flrH1kW4TTaf6xeq21d9XVepz1o0+rqh0a6ZJehv91sT802AWEpjnrzExfvmAICQfEITkA4KQfEAQkg8IQvIBQYrf/OVrWVNv5rpsXpoyfWH7CboknQpddk5Jb9RiPi21yW3XbUrZ5pyulJ0qfQ/zuX4z/uREv1JfiRZMNi2PftZ3kM3X7N7Cb8y26IXZ0yd13O/HXIot76fWrIAxK1las/9Oa1b/uFYXrQbgAiL5gCAkHxCE5AOCkHxAEJIPCJIHplDf2Oqx3SPbfKRbDeGOM+VjV+Y2pWV3D4VtNuj/s1pTj29L/XmjS2Zbe3ktrmxursPW8M19l7oU7xo+rt3TmntIZopxqnyDSUbcrbugef4a93nmGeOXDwhC8gFBSD4gCMkHBCH5gCAkHxCk+MfeqV7VYN7IdqV4V7J1x7nivmPfqO96Tnd/9kgf7aLT/XW8jHYJ1+9OaVc1uNgSLsZ9nmP37zKn5JcPCELyAUFIPiAIyQcEIfmAICQfEKQ4nU50q6F2O+bokCvZusUQdsWDrbZ3bTUsoazekW8nqFi36+9YUe/M3ZpvNbizXpy/nV0pYY7jlw8IQvIBQUg+IAjJBwQh+YAgJB8QJOvhuslse5Pc3j3/Rtd2whKc7wv8NupbMB0utOPE625bX30DHa9lKe2lc14Jwi8fEITkA4KQfEAQkg8IQvIBQUg+IEhOrc6/qvPr724s9AXKdztvotspfdn5/HopXTeAcvMy/PyKbtz3VXbtPdk/q3s2u35ct77bBcoE4P8LyQcEIfmAICQfEITkA4KQfECQnEo3Ptisa+jahijNKOOOb+J313HzHjcu+xzbCY4dmmxvzpXil3Bv7lrszkvmnHacubuYbg+gG3vt8MsHBCH5gCAkHxCE5AOCkHxAEJIPCJLdm/32be3OVWf3eeaN+nOu4C/hhfpvQFzMElZe2IkRti3gPtH2Zgz3/HX9ppcx14NVDcD/FJIPCELyAUFIPiAIyQcEIfmAINkvJXjxuenK1RdjPcA3s5x7+O/Pakdzu3kZNuY+sGOs82FL2Nyr63Edl+PwywcEIfmAICQfEITkA4KQfEAQkg8Ikl3QvTjeuaRu5yO4FQ9L0HkWhWGWQ5xrK6XzvZkNrs67um83uOo8l/yFs/MfTIhfPiAIyQcEIfmAICQfEITkA4KQfECQ7OrHhd0Yplvh3JaIl7P7kLGED+w8afrFLgvwbYGOF7mMv49dENBxc6/z1rFFxi8fEITkA4KQfEAQkg8IQvIBQUg+IEhOdvTzEsq5S1hJ4Mccn7duGxe50vmLfoPfzmpwK1kuVCvonHds6jzigQ2UgAuH5AOCkHxAEJIPCELyAUFIPiBITrOZDM7rebez2pKtHTzc6aQXqtPQlWkntMm0g+Qx3b6U/5VWQ9dNi5YxXtw9f64Nxi8fEITkA4KQfEAQkg8IQvIBQUg+IMi/AGRBZU7nP+zAAAAAAElFTkSuQmCC\" id=\"image86a8606dc7\" transform=\"scale(1 -1) translate(0 -160.56)\" x=\"361.408696\" y=\"-366.794353\" width=\"160.56\" height=\"160.56\"/>\n   </g>\n   <g id=\"text_11\">\n    <g id=\"patch_12\">\n     <path d=\"M 408.345165 375.478125 \nL 479.949852 375.478125 \nL 479.949852 357.8 \nL 408.345165 357.8 \nz\n\" style=\"fill: #bfbf00; stroke: #bfbf00; stroke-linejoin: miter\"/>\n    </g>\n    <!-- automobile -->\n    <g transform=\"translate(412.345165 369.398438) scale(0.1 -0.1)\">\n     <use xlink:href=\"#DejaVuSans-Bold-61\"/>\n     <use xlink:href=\"#DejaVuSans-Bold-75\" x=\"67.480469\"/>\n     <use xlink:href=\"#DejaVuSans-Bold-74\" x=\"138.671875\"/>\n     <use xlink:href=\"#DejaVuSans-Bold-6f\" x=\"186.474609\"/>\n     <use xlink:href=\"#DejaVuSans-Bold-6d\" x=\"255.175781\"/>\n     <use xlink:href=\"#DejaVuSans-Bold-6f\" x=\"359.375\"/>\n     <use xlink:href=\"#DejaVuSans-Bold-62\" x=\"428.076172\"/>\n     <use xlink:href=\"#DejaVuSans-Bold-69\" x=\"499.658203\"/>\n     <use xlink:href=\"#DejaVuSans-Bold-6c\" x=\"533.935547\"/>\n     <use xlink:href=\"#DejaVuSans-Bold-65\" x=\"568.212891\"/>\n    </g>\n   </g>\n  </g>\n  <g id=\"axes_12\">\n   <g clip-path=\"url(#p1d83bbda30)\">\n    <image xlink:href=\"data:image/png;base64,\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\" id=\"image0832db8be8\" transform=\"scale(1 -1) translate(0 -160.56)\" x=\"538.513043\" y=\"-366.794353\" width=\"160.56\" height=\"160.56\"/>\n   </g>\n   <g id=\"text_12\">\n    <g id=\"patch_13\">\n     <path d=\"M 585.449513 375.478125 \nL 657.0542 375.478125 \nL 657.0542 357.8 \nL 585.449513 357.8 \nz\n\" style=\"fill: #bfbf00; stroke: #bfbf00; stroke-linejoin: miter\"/>\n    </g>\n    <!-- automobile -->\n    <g transform=\"translate(589.449513 369.398438) scale(0.1 -0.1)\">\n     <use xlink:href=\"#DejaVuSans-Bold-61\"/>\n     <use xlink:href=\"#DejaVuSans-Bold-75\" x=\"67.480469\"/>\n     <use xlink:href=\"#DejaVuSans-Bold-74\" x=\"138.671875\"/>\n     <use xlink:href=\"#DejaVuSans-Bold-6f\" x=\"186.474609\"/>\n     <use xlink:href=\"#DejaVuSans-Bold-6d\" x=\"255.175781\"/>\n     <use xlink:href=\"#DejaVuSans-Bold-6f\" x=\"359.375\"/>\n     <use xlink:href=\"#DejaVuSans-Bold-62\" x=\"428.076172\"/>\n     <use xlink:href=\"#DejaVuSans-Bold-69\" x=\"499.658203\"/>\n     <use xlink:href=\"#DejaVuSans-Bold-6c\" x=\"533.935547\"/>\n     <use xlink:href=\"#DejaVuSans-Bold-65\" x=\"568.212891\"/>\n    </g>\n   </g>\n  </g>\n  <g id=\"axes_13\">\n   <g clip-path=\"url(#pff90ab7119)\">\n    <image xlink:href=\"data:image/png;base64,\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\" id=\"imageae08b6b797\" transform=\"scale(1 -1) translate(0 -160.56)\" x=\"7.2\" y=\"-544.094353\" width=\"160.56\" height=\"160.56\"/>\n   </g>\n   <g id=\"text_13\">\n    <g id=\"patch_14\">\n     <path d=\"M 71.234907 552.778125 \nL 108.642719 552.778125 \nL 108.642719 535.1 \nL 71.234907 535.1 \nz\n\" style=\"fill: #bfbf00; stroke: #bfbf00; stroke-linejoin: miter\"/>\n    </g>\n    <!-- truck -->\n    <g transform=\"translate(75.234907 546.698438) scale(0.1 -0.1)\">\n     <use xlink:href=\"#DejaVuSans-Bold-74\"/>\n     <use xlink:href=\"#DejaVuSans-Bold-72\" x=\"47.802734\"/>\n     <use xlink:href=\"#DejaVuSans-Bold-75\" x=\"97.119141\"/>\n     <use xlink:href=\"#DejaVuSans-Bold-63\" x=\"168.310547\"/>\n     <use xlink:href=\"#DejaVuSans-Bold-6b\" x=\"227.587891\"/>\n    </g>\n   </g>\n  </g>\n  <g id=\"axes_14\">\n   <g clip-path=\"url(#p2f73636986)\">\n    <image xlink:href=\"data:image/png;base64,\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\" id=\"imageb7ad368516\" transform=\"scale(1 -1) translate(0 -160.56)\" x=\"184.304348\" y=\"-544.094353\" width=\"160.56\" height=\"160.56\"/>\n   </g>\n   <g id=\"text_14\">\n    <g id=\"patch_15\">\n     <path d=\"M 231.240817 552.778125 \nL 302.845504 552.778125 \nL 302.845504 535.1 \nL 231.240817 535.1 \nz\n\" style=\"fill: #bfbf00; stroke: #bfbf00; stroke-linejoin: miter\"/>\n    </g>\n    <!-- automobile -->\n    <g transform=\"translate(235.240817 546.698438) scale(0.1 -0.1)\">\n     <use xlink:href=\"#DejaVuSans-Bold-61\"/>\n     <use xlink:href=\"#DejaVuSans-Bold-75\" x=\"67.480469\"/>\n     <use xlink:href=\"#DejaVuSans-Bold-74\" x=\"138.671875\"/>\n     <use xlink:href=\"#DejaVuSans-Bold-6f\" x=\"186.474609\"/>\n     <use xlink:href=\"#DejaVuSans-Bold-6d\" x=\"255.175781\"/>\n     <use xlink:href=\"#DejaVuSans-Bold-6f\" x=\"359.375\"/>\n     <use xlink:href=\"#DejaVuSans-Bold-62\" x=\"428.076172\"/>\n     <use xlink:href=\"#DejaVuSans-Bold-69\" x=\"499.658203\"/>\n     <use xlink:href=\"#DejaVuSans-Bold-6c\" x=\"533.935547\"/>\n     <use xlink:href=\"#DejaVuSans-Bold-65\" x=\"568.212891\"/>\n    </g>\n   </g>\n  </g>\n  <g id=\"axes_15\">\n   <g clip-path=\"url(#p85b3cc59d8)\">\n    <image xlink:href=\"data:image/png;base64,\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\" id=\"imagef656279e43\" transform=\"scale(1 -1) translate(0 -160.56)\" x=\"361.408696\" y=\"-544.094353\" width=\"160.56\" height=\"160.56\"/>\n   </g>\n   <g id=\"text_15\">\n    <g id=\"patch_16\">\n     <path d=\"M 428.492821 552.85625 \nL 459.802196 552.85625 \nL 459.802196 535.1 \nL 428.492821 535.1 \nz\n\" style=\"fill: #bfbf00; stroke: #bfbf00; stroke-linejoin: miter\"/>\n    </g>\n    <!-- frog -->\n    <g transform=\"translate(432.492821 546.698438) scale(0.1 -0.1)\">\n     <use xlink:href=\"#DejaVuSans-Bold-66\"/>\n     <use xlink:href=\"#DejaVuSans-Bold-72\" x=\"43.505859\"/>\n     <use xlink:href=\"#DejaVuSans-Bold-6f\" x=\"92.822266\"/>\n     <use xlink:href=\"#DejaVuSans-Bold-67\" x=\"161.523438\"/>\n    </g>\n   </g>\n  </g>\n  <g id=\"axes_16\">\n   <g clip-path=\"url(#p154dac001e)\">\n    <image xlink:href=\"data:image/png;base64,\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\" id=\"image28ac720c7d\" transform=\"scale(1 -1) translate(0 -160.56)\" x=\"538.513043\" y=\"-544.094353\" width=\"160.56\" height=\"160.56\"/>\n   </g>\n   <g id=\"text_16\">\n    <g id=\"patch_17\">\n     <path d=\"M 608.523731 552.778125 \nL 633.979981 552.778125 \nL 633.979981 535.1 \nL 608.523731 535.1 \nz\n\" style=\"fill: #bfbf00; stroke: #bfbf00; stroke-linejoin: miter\"/>\n    </g>\n    <!-- cat -->\n    <g transform=\"translate(612.523731 546.698438) scale(0.1 -0.1)\">\n     <use xlink:href=\"#DejaVuSans-Bold-63\"/>\n     <use xlink:href=\"#DejaVuSans-Bold-61\" x=\"59.277344\"/>\n     <use xlink:href=\"#DejaVuSans-Bold-74\" x=\"126.757812\"/>\n    </g>\n   </g>\n  </g>\n </g>\n <defs>\n  <clipPath id=\"pe97092b6df\">\n   <rect x=\"7.2\" y=\"12.291201\" width=\"160.463152\" height=\"160.463152\"/>\n  </clipPath>\n  <clipPath id=\"p4bc9abd643\">\n   <rect x=\"184.304348\" y=\"12.291201\" width=\"160.463152\" height=\"160.463152\"/>\n  </clipPath>\n  <clipPath id=\"pe427c913d7\">\n   <rect x=\"361.408696\" y=\"12.291201\" width=\"160.463152\" height=\"160.463152\"/>\n  </clipPath>\n  <clipPath id=\"p71494dc663\">\n   <rect x=\"538.513043\" y=\"12.291201\" width=\"160.463152\" height=\"160.463152\"/>\n  </clipPath>\n  <clipPath id=\"p6120b33ed4\">\n   <rect x=\"7.2\" y=\"189.591201\" width=\"160.463152\" height=\"160.463152\"/>\n  </clipPath>\n  <clipPath id=\"p8642068d96\">\n   <rect x=\"184.304348\" y=\"189.591201\" width=\"160.463152\" height=\"160.463152\"/>\n  </clipPath>\n  <clipPath id=\"pe45ac505ae\">\n   <rect x=\"361.408696\" y=\"189.591201\" width=\"160.463152\" height=\"160.463152\"/>\n  </clipPath>\n  <clipPath id=\"pd8bdf544d1\">\n   <rect x=\"538.513043\" y=\"189.591201\" width=\"160.463152\" height=\"160.463152\"/>\n  </clipPath>\n  <clipPath id=\"p7ef512beef\">\n   <rect x=\"7.2\" y=\"366.891201\" width=\"160.463152\" height=\"160.463152\"/>\n  </clipPath>\n  <clipPath id=\"pc4f611c91d\">\n   <rect x=\"184.304348\" y=\"366.891201\" width=\"160.463152\" height=\"160.463152\"/>\n  </clipPath>\n  <clipPath id=\"pc020460b06\">\n   <rect x=\"361.408696\" y=\"366.891201\" width=\"160.463152\" height=\"160.463152\"/>\n  </clipPath>\n  <clipPath id=\"p1d83bbda30\">\n   <rect x=\"538.513043\" y=\"366.891201\" width=\"160.463152\" height=\"160.463152\"/>\n  </clipPath>\n  <clipPath id=\"pff90ab7119\">\n   <rect x=\"7.2\" y=\"544.191201\" width=\"160.463152\" height=\"160.463152\"/>\n  </clipPath>\n  <clipPath id=\"p2f73636986\">\n   <rect x=\"184.304348\" y=\"544.191201\" width=\"160.463152\" height=\"160.463152\"/>\n  </clipPath>\n  <clipPath id=\"p85b3cc59d8\">\n   <rect x=\"361.408696\" y=\"544.191201\" width=\"160.463152\" height=\"160.463152\"/>\n  </clipPath>\n  <clipPath id=\"p154dac001e\">\n   <rect x=\"538.513043\" y=\"544.191201\" width=\"160.463152\" height=\"160.463152\"/>\n  </clipPath>\n </defs>\n</svg>\n"
          },
          "metadata": {}
        }
      ]
    },
    {
      "cell_type": "markdown",
      "source": [
        "# Build an autoencoder:"
      ],
      "metadata": {
        "id": "tlf1NKuXtKfH"
      }
    },
    {
      "cell_type": "code",
      "source": [
        "def makeTheAENet(printtoggle=False):\n",
        "\n",
        "  class aenet(nn.Module):\n",
        "    def __init__(self,printtoggle):\n",
        "      super().__init__()\n",
        "\n",
        "      # print toggle\n",
        "      self.print = printtoggle\n",
        "\n",
        "      ### -------------- encoding layers -------------- ###\n",
        "      # first convolution layer\n",
        "      self.encconv1  = nn.Conv2d(3,16,4,padding=1,stride=2) # note: using stride instead of pool to downsample\n",
        "      # output size: (32+2*1-4)/2 + 1 = 16\n",
        "\n",
        "      # second convolution layer\n",
        "      self.encconv2  = nn.Conv2d(16,32,4,padding=1,stride=2)\n",
        "      # output size: (16+2*1-4)/2 + 1 = 8\n",
        "\n",
        "      # third convolution layer\n",
        "      self.encconv3  = nn.Conv2d(32,64,4,padding=1,stride=2)\n",
        "      # output size: (8+2*1-4)/2 + 1 = 4\n",
        "\n",
        "\n",
        "      ### -------------- decoding layers -------------- ###\n",
        "\n",
        "      # first convolution layer\n",
        "      self.decconv1  = nn.ConvTranspose2d(64,32,4,padding=1,stride=2)\n",
        "\n",
        "      # second convolution layer\n",
        "      self.decconv2  = nn.ConvTranspose2d(32,16,4,padding=1,stride=2)\n",
        "\n",
        "      # third convolution layer (output)\n",
        "      self.decconv3  = nn.ConvTranspose2d(16,3,4,padding=1,stride=2)\n",
        "\n",
        "\n",
        "    def forward(self,x):\n",
        "\n",
        "      if self.print: print(f'Input: {list(x.shape)}')\n",
        "\n",
        "      # encoder blocks\n",
        "      x = F.leaky_relu( self.encconv1(x) )\n",
        "      if self.print: print(f'First encoder block: {list(x.shape)}')\n",
        "\n",
        "      x = F.leaky_relu( self.encconv2(x) )\n",
        "      if self.print: print(f'Second encoder block: {list(x.shape)}')\n",
        "\n",
        "      x = F.leaky_relu( self.encconv3(x) )\n",
        "      if self.print: print(f'Third encoder block: {list(x.shape)}')\n",
        "\n",
        "      # decoder blocks\n",
        "      x = F.leaky_relu( self.decconv1(x) )\n",
        "      if self.print: print(f'First decoder block: {list(x.shape)}')\n",
        "\n",
        "      x = F.leaky_relu( self.decconv2(x) )\n",
        "      if self.print: print(f'Second decoder block: {list(x.shape)}')\n",
        "\n",
        "      x = F.leaky_relu( self.decconv3(x) )\n",
        "      if self.print: print(f'Decoder output: {list(x.shape)}')\n",
        "\n",
        "      return x\n",
        "\n",
        "  # create the model instance\n",
        "  net = aenet(printtoggle)\n",
        "\n",
        "  # loss function\n",
        "  lossfun = nn.MSELoss()\n",
        "\n",
        "  # optimizer\n",
        "  optimizer = torch.optim.Adam(net.parameters(),lr=.001,weight_decay=1e-5)\n",
        "\n",
        "  return net,lossfun,optimizer"
      ],
      "metadata": {
        "id": "azkwyba6t2ik"
      },
      "execution_count": 13,
      "outputs": []
    },
    {
      "cell_type": "code",
      "source": [
        "# test the AE model with one batch\n",
        "aenet,lossfun,optimizer = makeTheAENet(True)\n",
        "\n",
        "X,y = next(iter(train_loaderSmall))\n",
        "yHat = aenet(X)\n",
        "\n",
        "# now compute the loss\n",
        "loss = lossfun(yHat,X)\n",
        "print(' ')\n",
        "print('Loss:')\n",
        "print(loss)"
      ],
      "metadata": {
        "colab": {
          "base_uri": "https://localhost:8080/"
        },
        "id": "hme-KXBVt5_s",
        "outputId": "48df45cd-3f0a-4c5c-b81b-6f42d464b121"
      },
      "execution_count": 14,
      "outputs": [
        {
          "output_type": "stream",
          "name": "stdout",
          "text": [
            "Input: [32, 3, 32, 32]\n",
            "First encoder block: [32, 16, 16, 16]\n",
            "Second encoder block: [32, 32, 8, 8]\n",
            "Third encoder block: [32, 64, 4, 4]\n",
            "First decoder block: [32, 32, 8, 8]\n",
            "Second decoder block: [32, 16, 16, 16]\n",
            "Decoder output: [32, 3, 32, 32]\n",
            " \n",
            "Loss:\n",
            "tensor(0.2387, grad_fn=<MseLossBackward0>)\n"
          ]
        }
      ]
    },
    {
      "cell_type": "markdown",
      "source": [
        "# A function to train the autoencoder:"
      ],
      "metadata": {
        "id": "7C6L0Z4lt9uD"
      }
    },
    {
      "cell_type": "code",
      "source": [
        "def function2trainTheAEModel(net,lossfun,optimizer):\n",
        "\n",
        "  # number of epochs\n",
        "  numepochs = 15\n",
        "\n",
        "  # send the model to the GPU\n",
        "  net.to(device)\n",
        "\n",
        "  # initialize losses\n",
        "  trainLoss = torch.zeros(numepochs)\n",
        "  testLoss  = torch.zeros(numepochs)\n",
        "\n",
        "\n",
        "  # loop over epochs\n",
        "  for epochi in range(numepochs):\n",
        "\n",
        "    # loop over training data batches\n",
        "    net.train() # switch to train mode\n",
        "    batchLoss = []\n",
        "\n",
        "    for X,y in train_loaderFull:\n",
        "\n",
        "      # push data to GPU\n",
        "      X = X.to(device)\n",
        "      y = y.to(device)\n",
        "\n",
        "      # forward pass and loss\n",
        "      yHat = net(X)\n",
        "      loss = lossfun(yHat,X)\n",
        "\n",
        "      # backprop\n",
        "      optimizer.zero_grad()\n",
        "      loss.backward()\n",
        "      optimizer.step()\n",
        "\n",
        "      # loss and accuracy from this batch\n",
        "      batchLoss.append(loss.item())\n",
        "    # end of batch loop...\n",
        "\n",
        "    # and get average losses and accuracies across the batches\n",
        "    trainLoss[epochi] = np.mean(batchLoss)\n",
        "\n",
        "\n",
        "    #### test performance (here done in batches!)\n",
        "    net.eval() # switch to test mode\n",
        "    batchLoss = []\n",
        "\n",
        "    for X,y in test_loaderFull:\n",
        "\n",
        "      # push data to GPU\n",
        "      X = X.to(device)\n",
        "      y = y.to(device)\n",
        "\n",
        "      # forward pass and loss\n",
        "      with torch.no_grad():\n",
        "        yHat = net(X)\n",
        "        loss = lossfun(yHat,X)\n",
        "\n",
        "      # loss and accuracy from this batch\n",
        "      batchLoss.append(loss.item())\n",
        "    # end of batch loop...\n",
        "\n",
        "    # and get average losses and accuracies across the batches\n",
        "    testLoss[epochi] = np.mean(batchLoss)\n",
        "\n",
        "  # end epochs\n",
        "\n",
        "  # function output\n",
        "  return trainLoss,testLoss,net"
      ],
      "metadata": {
        "id": "NgIHuuDKut9u"
      },
      "execution_count": 15,
      "outputs": []
    },
    {
      "cell_type": "markdown",
      "source": [
        "# Run the AE model & show the results:"
      ],
      "metadata": {
        "id": "_ieYFnOTu0n0"
      }
    },
    {
      "cell_type": "code",
      "source": [
        "# ~3 minutes with 15 epochs on GPU\n",
        "\n",
        "# create a new model (comment out to re-train)\n",
        "netAE,lossfun,optimizer = makeTheAENet()\n",
        "\n",
        "trainLossAE,testLossAE,netAE = function2trainTheAEModel(netAE,lossfun,optimizer)"
      ],
      "metadata": {
        "colab": {
          "base_uri": "https://localhost:8080/",
          "height": 1000
        },
        "id": "INBlzB1duzf9",
        "outputId": "e5f1dfb1-62fa-470f-d621-c6666ff01299"
      },
      "execution_count": 16,
      "outputs": [
        {
          "output_type": "stream",
          "name": "stderr",
          "text": [
            "ERROR:root:Internal Python error in the inspect module.\n",
            "Below is the traceback from this internal error.\n",
            "\n"
          ]
        },
        {
          "output_type": "stream",
          "name": "stdout",
          "text": [
            "Traceback (most recent call last):\n",
            "  File \"/usr/local/lib/python3.10/dist-packages/IPython/core/interactiveshell.py\", line 3553, in run_code\n",
            "    exec(code_obj, self.user_global_ns, self.user_ns)\n",
            "  File \"<ipython-input-16-e3e246bc25ce>\", line 6, in <cell line: 6>\n",
            "    trainLossAE,testLossAE,netAE = function2trainTheAEModel(netAE,lossfun,optimizer)\n",
            "  File \"<ipython-input-15-3e970ad02dc9>\", line 28, in function2trainTheAEModel\n",
            "    yHat = net(X)\n",
            "  File \"/usr/local/lib/python3.10/dist-packages/torch/nn/modules/module.py\", line 1501, in _call_impl\n",
            "    return forward_call(*args, **kwargs)\n",
            "  File \"<ipython-input-13-cc6f215d96b6>\", line 54, in forward\n",
            "    x = F.leaky_relu( self.decconv2(x) )\n",
            "  File \"/usr/local/lib/python3.10/dist-packages/torch/nn/modules/module.py\", line 1501, in _call_impl\n",
            "    return forward_call(*args, **kwargs)\n",
            "  File \"/usr/local/lib/python3.10/dist-packages/torch/nn/modules/conv.py\", line 956, in forward\n",
            "    return F.conv_transpose2d(\n",
            "KeyboardInterrupt\n",
            "\n",
            "During handling of the above exception, another exception occurred:\n",
            "\n",
            "Traceback (most recent call last):\n",
            "  File \"/usr/local/lib/python3.10/dist-packages/IPython/core/interactiveshell.py\", line 2099, in showtraceback\n",
            "    stb = value._render_traceback_()\n",
            "AttributeError: 'KeyboardInterrupt' object has no attribute '_render_traceback_'\n",
            "\n",
            "During handling of the above exception, another exception occurred:\n",
            "\n",
            "Traceback (most recent call last):\n",
            "  File \"/usr/local/lib/python3.10/dist-packages/IPython/core/ultratb.py\", line 1101, in get_records\n",
            "    return _fixed_getinnerframes(etb, number_of_lines_of_context, tb_offset)\n",
            "  File \"/usr/local/lib/python3.10/dist-packages/IPython/core/ultratb.py\", line 248, in wrapped\n",
            "    return f(*args, **kwargs)\n",
            "  File \"/usr/local/lib/python3.10/dist-packages/IPython/core/ultratb.py\", line 281, in _fixed_getinnerframes\n",
            "    records = fix_frame_records_filenames(inspect.getinnerframes(etb, context))\n",
            "  File \"/usr/lib/python3.10/inspect.py\", line 1662, in getinnerframes\n",
            "    frameinfo = (tb.tb_frame,) + getframeinfo(tb, context)\n",
            "  File \"/usr/lib/python3.10/inspect.py\", line 1620, in getframeinfo\n",
            "    filename = getsourcefile(frame) or getfile(frame)\n",
            "  File \"/usr/lib/python3.10/inspect.py\", line 829, in getsourcefile\n",
            "    module = getmodule(object, filename)\n",
            "  File \"/usr/lib/python3.10/inspect.py\", line 875, in getmodule\n",
            "    f = getabsfile(module)\n",
            "  File \"/usr/lib/python3.10/inspect.py\", line 844, in getabsfile\n",
            "    _filename = getsourcefile(object) or getfile(object)\n",
            "  File \"/usr/lib/python3.10/inspect.py\", line 826, in getsourcefile\n",
            "    if os.path.exists(filename):\n",
            "  File \"/usr/lib/python3.10/genericpath.py\", line 19, in exists\n",
            "    os.stat(path)\n",
            "KeyboardInterrupt\n"
          ]
        },
        {
          "output_type": "error",
          "ename": "TypeError",
          "evalue": "ignored",
          "traceback": [
            "\u001b[0;31m---------------------------------------------------------------------------\u001b[0m",
            "\u001b[0;31mKeyboardInterrupt\u001b[0m                         Traceback (most recent call last)",
            "    \u001b[0;31m[... skipping hidden 1 frame]\u001b[0m\n",
            "\u001b[0;32m<ipython-input-16-e3e246bc25ce>\u001b[0m in \u001b[0;36m<cell line: 6>\u001b[0;34m()\u001b[0m\n\u001b[1;32m      5\u001b[0m \u001b[0;34m\u001b[0m\u001b[0m\n\u001b[0;32m----> 6\u001b[0;31m \u001b[0mtrainLossAE\u001b[0m\u001b[0;34m,\u001b[0m\u001b[0mtestLossAE\u001b[0m\u001b[0;34m,\u001b[0m\u001b[0mnetAE\u001b[0m \u001b[0;34m=\u001b[0m \u001b[0mfunction2trainTheAEModel\u001b[0m\u001b[0;34m(\u001b[0m\u001b[0mnetAE\u001b[0m\u001b[0;34m,\u001b[0m\u001b[0mlossfun\u001b[0m\u001b[0;34m,\u001b[0m\u001b[0moptimizer\u001b[0m\u001b[0;34m)\u001b[0m\u001b[0;34m\u001b[0m\u001b[0;34m\u001b[0m\u001b[0m\n\u001b[0m",
            "\u001b[0;32m<ipython-input-15-3e970ad02dc9>\u001b[0m in \u001b[0;36mfunction2trainTheAEModel\u001b[0;34m(net, lossfun, optimizer)\u001b[0m\n\u001b[1;32m     27\u001b[0m       \u001b[0;31m# forward pass and loss\u001b[0m\u001b[0;34m\u001b[0m\u001b[0;34m\u001b[0m\u001b[0m\n\u001b[0;32m---> 28\u001b[0;31m       \u001b[0myHat\u001b[0m \u001b[0;34m=\u001b[0m \u001b[0mnet\u001b[0m\u001b[0;34m(\u001b[0m\u001b[0mX\u001b[0m\u001b[0;34m)\u001b[0m\u001b[0;34m\u001b[0m\u001b[0;34m\u001b[0m\u001b[0m\n\u001b[0m\u001b[1;32m     29\u001b[0m       \u001b[0mloss\u001b[0m \u001b[0;34m=\u001b[0m \u001b[0mlossfun\u001b[0m\u001b[0;34m(\u001b[0m\u001b[0myHat\u001b[0m\u001b[0;34m,\u001b[0m\u001b[0mX\u001b[0m\u001b[0;34m)\u001b[0m\u001b[0;34m\u001b[0m\u001b[0;34m\u001b[0m\u001b[0m\n",
            "\u001b[0;32m/usr/local/lib/python3.10/dist-packages/torch/nn/modules/module.py\u001b[0m in \u001b[0;36m_call_impl\u001b[0;34m(self, *args, **kwargs)\u001b[0m\n\u001b[1;32m   1500\u001b[0m                 or _global_forward_hooks or _global_forward_pre_hooks):\n\u001b[0;32m-> 1501\u001b[0;31m             \u001b[0;32mreturn\u001b[0m \u001b[0mforward_call\u001b[0m\u001b[0;34m(\u001b[0m\u001b[0;34m*\u001b[0m\u001b[0margs\u001b[0m\u001b[0;34m,\u001b[0m \u001b[0;34m**\u001b[0m\u001b[0mkwargs\u001b[0m\u001b[0;34m)\u001b[0m\u001b[0;34m\u001b[0m\u001b[0;34m\u001b[0m\u001b[0m\n\u001b[0m\u001b[1;32m   1502\u001b[0m         \u001b[0;31m# Do not call functions when jit is used\u001b[0m\u001b[0;34m\u001b[0m\u001b[0;34m\u001b[0m\u001b[0m\n",
            "\u001b[0;32m<ipython-input-13-cc6f215d96b6>\u001b[0m in \u001b[0;36mforward\u001b[0;34m(self, x)\u001b[0m\n\u001b[1;32m     53\u001b[0m \u001b[0;34m\u001b[0m\u001b[0m\n\u001b[0;32m---> 54\u001b[0;31m       \u001b[0mx\u001b[0m \u001b[0;34m=\u001b[0m \u001b[0mF\u001b[0m\u001b[0;34m.\u001b[0m\u001b[0mleaky_relu\u001b[0m\u001b[0;34m(\u001b[0m \u001b[0mself\u001b[0m\u001b[0;34m.\u001b[0m\u001b[0mdecconv2\u001b[0m\u001b[0;34m(\u001b[0m\u001b[0mx\u001b[0m\u001b[0;34m)\u001b[0m \u001b[0;34m)\u001b[0m\u001b[0;34m\u001b[0m\u001b[0;34m\u001b[0m\u001b[0m\n\u001b[0m\u001b[1;32m     55\u001b[0m       \u001b[0;32mif\u001b[0m \u001b[0mself\u001b[0m\u001b[0;34m.\u001b[0m\u001b[0mprint\u001b[0m\u001b[0;34m:\u001b[0m \u001b[0mprint\u001b[0m\u001b[0;34m(\u001b[0m\u001b[0;34mf'Second decoder block: {list(x.shape)}'\u001b[0m\u001b[0;34m)\u001b[0m\u001b[0;34m\u001b[0m\u001b[0;34m\u001b[0m\u001b[0m\n",
            "\u001b[0;32m/usr/local/lib/python3.10/dist-packages/torch/nn/modules/module.py\u001b[0m in \u001b[0;36m_call_impl\u001b[0;34m(self, *args, **kwargs)\u001b[0m\n\u001b[1;32m   1500\u001b[0m                 or _global_forward_hooks or _global_forward_pre_hooks):\n\u001b[0;32m-> 1501\u001b[0;31m             \u001b[0;32mreturn\u001b[0m \u001b[0mforward_call\u001b[0m\u001b[0;34m(\u001b[0m\u001b[0;34m*\u001b[0m\u001b[0margs\u001b[0m\u001b[0;34m,\u001b[0m \u001b[0;34m**\u001b[0m\u001b[0mkwargs\u001b[0m\u001b[0;34m)\u001b[0m\u001b[0;34m\u001b[0m\u001b[0;34m\u001b[0m\u001b[0m\n\u001b[0m\u001b[1;32m   1502\u001b[0m         \u001b[0;31m# Do not call functions when jit is used\u001b[0m\u001b[0;34m\u001b[0m\u001b[0;34m\u001b[0m\u001b[0m\n",
            "\u001b[0;32m/usr/local/lib/python3.10/dist-packages/torch/nn/modules/conv.py\u001b[0m in \u001b[0;36mforward\u001b[0;34m(self, input, output_size)\u001b[0m\n\u001b[1;32m    955\u001b[0m \u001b[0;34m\u001b[0m\u001b[0m\n\u001b[0;32m--> 956\u001b[0;31m         return F.conv_transpose2d(\n\u001b[0m\u001b[1;32m    957\u001b[0m             \u001b[0minput\u001b[0m\u001b[0;34m,\u001b[0m \u001b[0mself\u001b[0m\u001b[0;34m.\u001b[0m\u001b[0mweight\u001b[0m\u001b[0;34m,\u001b[0m \u001b[0mself\u001b[0m\u001b[0;34m.\u001b[0m\u001b[0mbias\u001b[0m\u001b[0;34m,\u001b[0m \u001b[0mself\u001b[0m\u001b[0;34m.\u001b[0m\u001b[0mstride\u001b[0m\u001b[0;34m,\u001b[0m \u001b[0mself\u001b[0m\u001b[0;34m.\u001b[0m\u001b[0mpadding\u001b[0m\u001b[0;34m,\u001b[0m\u001b[0;34m\u001b[0m\u001b[0;34m\u001b[0m\u001b[0m\n",
            "\u001b[0;31mKeyboardInterrupt\u001b[0m: ",
            "\nDuring handling of the above exception, another exception occurred:\n",
            "\u001b[0;31mAttributeError\u001b[0m                            Traceback (most recent call last)",
            "\u001b[0;32m/usr/local/lib/python3.10/dist-packages/IPython/core/interactiveshell.py\u001b[0m in \u001b[0;36mshowtraceback\u001b[0;34m(self, exc_tuple, filename, tb_offset, exception_only, running_compiled_code)\u001b[0m\n\u001b[1;32m   2098\u001b[0m                         \u001b[0;31m# in the engines. This should return a list of strings.\u001b[0m\u001b[0;34m\u001b[0m\u001b[0;34m\u001b[0m\u001b[0m\n\u001b[0;32m-> 2099\u001b[0;31m                         \u001b[0mstb\u001b[0m \u001b[0;34m=\u001b[0m \u001b[0mvalue\u001b[0m\u001b[0;34m.\u001b[0m\u001b[0m_render_traceback_\u001b[0m\u001b[0;34m(\u001b[0m\u001b[0;34m)\u001b[0m\u001b[0;34m\u001b[0m\u001b[0;34m\u001b[0m\u001b[0m\n\u001b[0m\u001b[1;32m   2100\u001b[0m                     \u001b[0;32mexcept\u001b[0m \u001b[0mException\u001b[0m\u001b[0;34m:\u001b[0m\u001b[0;34m\u001b[0m\u001b[0;34m\u001b[0m\u001b[0m\n",
            "\u001b[0;31mAttributeError\u001b[0m: 'KeyboardInterrupt' object has no attribute '_render_traceback_'",
            "\nDuring handling of the above exception, another exception occurred:\n",
            "\u001b[0;31mTypeError\u001b[0m                                 Traceback (most recent call last)",
            "    \u001b[0;31m[... skipping hidden 1 frame]\u001b[0m\n",
            "\u001b[0;32m/usr/local/lib/python3.10/dist-packages/IPython/core/interactiveshell.py\u001b[0m in \u001b[0;36mshowtraceback\u001b[0;34m(self, exc_tuple, filename, tb_offset, exception_only, running_compiled_code)\u001b[0m\n\u001b[1;32m   2099\u001b[0m                         \u001b[0mstb\u001b[0m \u001b[0;34m=\u001b[0m \u001b[0mvalue\u001b[0m\u001b[0;34m.\u001b[0m\u001b[0m_render_traceback_\u001b[0m\u001b[0;34m(\u001b[0m\u001b[0;34m)\u001b[0m\u001b[0;34m\u001b[0m\u001b[0;34m\u001b[0m\u001b[0m\n\u001b[1;32m   2100\u001b[0m                     \u001b[0;32mexcept\u001b[0m \u001b[0mException\u001b[0m\u001b[0;34m:\u001b[0m\u001b[0;34m\u001b[0m\u001b[0;34m\u001b[0m\u001b[0m\n\u001b[0;32m-> 2101\u001b[0;31m                         stb = self.InteractiveTB.structured_traceback(etype,\n\u001b[0m\u001b[1;32m   2102\u001b[0m                                             value, tb, tb_offset=tb_offset)\n\u001b[1;32m   2103\u001b[0m \u001b[0;34m\u001b[0m\u001b[0m\n",
            "\u001b[0;32m/usr/local/lib/python3.10/dist-packages/IPython/core/ultratb.py\u001b[0m in \u001b[0;36mstructured_traceback\u001b[0;34m(self, etype, value, tb, tb_offset, number_of_lines_of_context)\u001b[0m\n\u001b[1;32m   1365\u001b[0m         \u001b[0;32melse\u001b[0m\u001b[0;34m:\u001b[0m\u001b[0;34m\u001b[0m\u001b[0;34m\u001b[0m\u001b[0m\n\u001b[1;32m   1366\u001b[0m             \u001b[0mself\u001b[0m\u001b[0;34m.\u001b[0m\u001b[0mtb\u001b[0m \u001b[0;34m=\u001b[0m \u001b[0mtb\u001b[0m\u001b[0;34m\u001b[0m\u001b[0;34m\u001b[0m\u001b[0m\n\u001b[0;32m-> 1367\u001b[0;31m         return FormattedTB.structured_traceback(\n\u001b[0m\u001b[1;32m   1368\u001b[0m             self, etype, value, tb, tb_offset, number_of_lines_of_context)\n\u001b[1;32m   1369\u001b[0m \u001b[0;34m\u001b[0m\u001b[0m\n",
            "\u001b[0;32m/usr/local/lib/python3.10/dist-packages/IPython/core/ultratb.py\u001b[0m in \u001b[0;36mstructured_traceback\u001b[0;34m(self, etype, value, tb, tb_offset, number_of_lines_of_context)\u001b[0m\n\u001b[1;32m   1265\u001b[0m         \u001b[0;32mif\u001b[0m \u001b[0mmode\u001b[0m \u001b[0;32min\u001b[0m \u001b[0mself\u001b[0m\u001b[0;34m.\u001b[0m\u001b[0mverbose_modes\u001b[0m\u001b[0;34m:\u001b[0m\u001b[0;34m\u001b[0m\u001b[0;34m\u001b[0m\u001b[0m\n\u001b[1;32m   1266\u001b[0m             \u001b[0;31m# Verbose modes need a full traceback\u001b[0m\u001b[0;34m\u001b[0m\u001b[0;34m\u001b[0m\u001b[0m\n\u001b[0;32m-> 1267\u001b[0;31m             return VerboseTB.structured_traceback(\n\u001b[0m\u001b[1;32m   1268\u001b[0m                 \u001b[0mself\u001b[0m\u001b[0;34m,\u001b[0m \u001b[0metype\u001b[0m\u001b[0;34m,\u001b[0m \u001b[0mvalue\u001b[0m\u001b[0;34m,\u001b[0m \u001b[0mtb\u001b[0m\u001b[0;34m,\u001b[0m \u001b[0mtb_offset\u001b[0m\u001b[0;34m,\u001b[0m \u001b[0mnumber_of_lines_of_context\u001b[0m\u001b[0;34m\u001b[0m\u001b[0;34m\u001b[0m\u001b[0m\n\u001b[1;32m   1269\u001b[0m             )\n",
            "\u001b[0;32m/usr/local/lib/python3.10/dist-packages/IPython/core/ultratb.py\u001b[0m in \u001b[0;36mstructured_traceback\u001b[0;34m(self, etype, evalue, etb, tb_offset, number_of_lines_of_context)\u001b[0m\n\u001b[1;32m   1122\u001b[0m         \u001b[0;34m\"\"\"Return a nice text document describing the traceback.\"\"\"\u001b[0m\u001b[0;34m\u001b[0m\u001b[0;34m\u001b[0m\u001b[0m\n\u001b[1;32m   1123\u001b[0m \u001b[0;34m\u001b[0m\u001b[0m\n\u001b[0;32m-> 1124\u001b[0;31m         formatted_exception = self.format_exception_as_a_whole(etype, evalue, etb, number_of_lines_of_context,\n\u001b[0m\u001b[1;32m   1125\u001b[0m                                                                tb_offset)\n\u001b[1;32m   1126\u001b[0m \u001b[0;34m\u001b[0m\u001b[0m\n",
            "\u001b[0;32m/usr/local/lib/python3.10/dist-packages/IPython/core/ultratb.py\u001b[0m in \u001b[0;36mformat_exception_as_a_whole\u001b[0;34m(self, etype, evalue, etb, number_of_lines_of_context, tb_offset)\u001b[0m\n\u001b[1;32m   1080\u001b[0m \u001b[0;34m\u001b[0m\u001b[0m\n\u001b[1;32m   1081\u001b[0m \u001b[0;34m\u001b[0m\u001b[0m\n\u001b[0;32m-> 1082\u001b[0;31m         \u001b[0mlast_unique\u001b[0m\u001b[0;34m,\u001b[0m \u001b[0mrecursion_repeat\u001b[0m \u001b[0;34m=\u001b[0m \u001b[0mfind_recursion\u001b[0m\u001b[0;34m(\u001b[0m\u001b[0morig_etype\u001b[0m\u001b[0;34m,\u001b[0m \u001b[0mevalue\u001b[0m\u001b[0;34m,\u001b[0m \u001b[0mrecords\u001b[0m\u001b[0;34m)\u001b[0m\u001b[0;34m\u001b[0m\u001b[0;34m\u001b[0m\u001b[0m\n\u001b[0m\u001b[1;32m   1083\u001b[0m \u001b[0;34m\u001b[0m\u001b[0m\n\u001b[1;32m   1084\u001b[0m         \u001b[0mframes\u001b[0m \u001b[0;34m=\u001b[0m \u001b[0mself\u001b[0m\u001b[0;34m.\u001b[0m\u001b[0mformat_records\u001b[0m\u001b[0;34m(\u001b[0m\u001b[0mrecords\u001b[0m\u001b[0;34m,\u001b[0m \u001b[0mlast_unique\u001b[0m\u001b[0;34m,\u001b[0m \u001b[0mrecursion_repeat\u001b[0m\u001b[0;34m)\u001b[0m\u001b[0;34m\u001b[0m\u001b[0;34m\u001b[0m\u001b[0m\n",
            "\u001b[0;32m/usr/local/lib/python3.10/dist-packages/IPython/core/ultratb.py\u001b[0m in \u001b[0;36mfind_recursion\u001b[0;34m(etype, value, records)\u001b[0m\n\u001b[1;32m    380\u001b[0m     \u001b[0;31m# first frame (from in to out) that looks different.\u001b[0m\u001b[0;34m\u001b[0m\u001b[0;34m\u001b[0m\u001b[0m\n\u001b[1;32m    381\u001b[0m     \u001b[0;32mif\u001b[0m \u001b[0;32mnot\u001b[0m \u001b[0mis_recursion_error\u001b[0m\u001b[0;34m(\u001b[0m\u001b[0metype\u001b[0m\u001b[0;34m,\u001b[0m \u001b[0mvalue\u001b[0m\u001b[0;34m,\u001b[0m \u001b[0mrecords\u001b[0m\u001b[0;34m)\u001b[0m\u001b[0;34m:\u001b[0m\u001b[0;34m\u001b[0m\u001b[0;34m\u001b[0m\u001b[0m\n\u001b[0;32m--> 382\u001b[0;31m         \u001b[0;32mreturn\u001b[0m \u001b[0mlen\u001b[0m\u001b[0;34m(\u001b[0m\u001b[0mrecords\u001b[0m\u001b[0;34m)\u001b[0m\u001b[0;34m,\u001b[0m \u001b[0;36m0\u001b[0m\u001b[0;34m\u001b[0m\u001b[0;34m\u001b[0m\u001b[0m\n\u001b[0m\u001b[1;32m    383\u001b[0m \u001b[0;34m\u001b[0m\u001b[0m\n\u001b[1;32m    384\u001b[0m     \u001b[0;31m# Select filename, lineno, func_name to track frames with\u001b[0m\u001b[0;34m\u001b[0m\u001b[0;34m\u001b[0m\u001b[0m\n",
            "\u001b[0;31mTypeError\u001b[0m: object of type 'NoneType' has no len()"
          ]
        }
      ]
    },
    {
      "cell_type": "code",
      "source": [
        "plt.plot(trainLossAE,'s-',label='AE Train')\n",
        "plt.plot(testLossAE,'o-',label='AE Test')\n",
        "plt.xlabel('Epochs')\n",
        "plt.ylabel('Loss (MSE)')\n",
        "plt.title('Model loss (final value: %g)'%testLossAE[-1])\n",
        "plt.legend()\n",
        "\n",
        "plt.show()"
      ],
      "metadata": {
        "id": "26AbbF5Fu7FO"
      },
      "execution_count": null,
      "outputs": []
    },
    {
      "cell_type": "code",
      "source": [
        "# show some random examples\n",
        "\n",
        "# get some data\n",
        "X,y = next(iter(test_loaderSmall))\n",
        "\n",
        "# forward pass and loss\n",
        "netAE.cpu()\n",
        "netAE.eval() # switch to test mode\n",
        "yHat = netAE(X)\n",
        "\n",
        "\n",
        "fig,axs = plt.subplots(2,10,figsize=(14,4))\n",
        "\n",
        "for i in range(10):\n",
        "  pic = yHat[i,:,:,:].detach().numpy().transpose((1,2,0))\n",
        "  pic = pic/2 + .5 # undo normalization\n",
        "  axs[0,i].imshow(pic)\n",
        "  axs[0,i].set_title(f'[ {np.min(pic):.2f}, {np.max(pic):.2f} ]',fontsize=10)\n",
        "  axs[0,i].axis('off')\n",
        "\n",
        "  pic = X[i,:,:,:].detach().numpy().transpose((1,2,0))\n",
        "  pic = pic/2 + .5 # undo normalization\n",
        "  axs[1,i].imshow(pic)\n",
        "  axs[1,i].set_title(f'[ {np.min(pic):.2f}, {np.max(pic):.2f} ]',fontsize=10)\n",
        "  axs[1,i].axis('off')\n",
        "\n",
        "plt.show()"
      ],
      "metadata": {
        "id": "YaCncyq8vAci"
      },
      "execution_count": null,
      "outputs": []
    },
    {
      "cell_type": "markdown",
      "source": [
        "# Create the classification model:"
      ],
      "metadata": {
        "id": "iqbgxwCyvEXo"
      }
    },
    {
      "cell_type": "code",
      "source": [
        "# create a class for the model\n",
        "def makeTheClassNet(printtoggle=False):\n",
        "\n",
        "  class cnnnet(nn.Module):\n",
        "    def __init__(self,printtoggle):\n",
        "      super().__init__()\n",
        "\n",
        "      # print toggle\n",
        "      self.print = printtoggle\n",
        "\n",
        "      # -------------- encoding layers --------------\n",
        "\n",
        "      # first convolution layer\n",
        "      self.encconv1  = nn.Conv2d(3,16,4,padding=1,stride=2) # note: using stride instead of pool to downsample\n",
        "      # output size: (28+2*1-4)/2 + 1 = 14\n",
        "\n",
        "      # second convolution layer\n",
        "      self.encconv2  = nn.Conv2d(16,32,4,padding=1,stride=2)\n",
        "      # output size: (14+2*1-4)/2 + 1 = 7\n",
        "\n",
        "      # third convolution layer\n",
        "      self.encconv3  = nn.Conv2d(32,64,4,padding=1,stride=2)\n",
        "      # output size: (7+2*1-4)/2 + 1 = 4\n",
        "\n",
        "      # ------------- linear layers -------------\n",
        "\n",
        "      self.fc1  = nn.Linear(4*4*64,128)\n",
        "      self.fc2  = nn.Linear(128,64)\n",
        "      self.fc3  = nn.Linear(64,10) # output (10 categories)\n",
        "\n",
        "\n",
        "    def forward(self,x):\n",
        "\n",
        "      if self.print: print(f'Input: {list(x.shape)}')\n",
        "\n",
        "      # first encoder layer\n",
        "      x = F.leaky_relu(self.encconv1(x))\n",
        "      if self.print: print(f'First encoder layer: {list(x.shape)}')\n",
        "\n",
        "      # second encoder layer\n",
        "      x = F.leaky_relu(self.encconv2(x))\n",
        "      if self.print: print(f'Second encoder layer: {list(x.shape)}')\n",
        "\n",
        "      # third encoder layer\n",
        "      x = F.leaky_relu(self.encconv3(x))\n",
        "      if self.print: print(f'Third encoder layer: {list(x.shape)}')\n",
        "\n",
        "      # reshape to linear\n",
        "      nUnits = x.shape.numel()/x.shape[0]\n",
        "      x = x.view(-1,int(nUnits))\n",
        "      if self.print: print(f'Post-convolution vectorized: {list(x.shape)}')\n",
        "\n",
        "      # linear layers\n",
        "      x = F.leaky_relu(self.fc1(x))\n",
        "      if self.print: print(f'First linear layer: {list(x.shape)}')\n",
        "\n",
        "      x = F.leaky_relu(self.fc2(x))\n",
        "      if self.print: print(f'Second linear layer: {list(x.shape)}')\n",
        "\n",
        "      x = F.leaky_relu(self.fc3(x))\n",
        "      if self.print: print(f'Output linear layer: {list(x.shape)}')\n",
        "\n",
        "      return x\n",
        "\n",
        "  # create the model instance\n",
        "  net = cnnnet(printtoggle)\n",
        "\n",
        "  # loss function\n",
        "  lossfun = nn.CrossEntropyLoss()\n",
        "\n",
        "  # optimizer\n",
        "  optimizer = torch.optim.Adam(net.parameters(),lr=.001)\n",
        "\n",
        "  return net,lossfun,optimizer"
      ],
      "metadata": {
        "id": "gIyCVEgAvPqw"
      },
      "execution_count": null,
      "outputs": []
    },
    {
      "cell_type": "code",
      "source": [
        "# test the model with one batch\n",
        "tmpnet,lossfun,optimizer = makeTheClassNet(True)\n",
        "\n",
        "X,y = next(iter(train_loaderSmall))\n",
        "yHat = tmpnet(X)\n",
        "\n",
        "# # now let's compute the loss\n",
        "loss = lossfun(yHat,y)\n",
        "print(' ')\n",
        "print('Loss:')\n",
        "print(loss)"
      ],
      "metadata": {
        "id": "GcHKvwsQvUwW"
      },
      "execution_count": null,
      "outputs": []
    },
    {
      "cell_type": "markdown",
      "source": [
        "# A function to train the classifier:"
      ],
      "metadata": {
        "id": "Q-_5WRJyvXHr"
      }
    },
    {
      "cell_type": "code",
      "source": [
        "def function2trainTheClassModel(net,lossfun,optimizer,train_loader,test_loader):\n",
        "\n",
        "  # number of epochs\n",
        "  numepochs = 10\n",
        "\n",
        "  # send the model to the GPU\n",
        "  net.to(device)\n",
        "\n",
        "  # initialize losses\n",
        "  trainLoss = torch.zeros(numepochs)\n",
        "  testLoss  = torch.zeros(numepochs)\n",
        "  trainAcc  = torch.zeros(numepochs)\n",
        "  testAcc   = torch.zeros(numepochs)\n",
        "\n",
        "\n",
        "  # loop over epochs\n",
        "  for epochi in range(numepochs):\n",
        "\n",
        "    # loop over training data batches\n",
        "    net.train() # switch to train mode\n",
        "    batchLoss = []\n",
        "    batchAcc  = []\n",
        "\n",
        "    for X,y in train_loader:\n",
        "\n",
        "      # push data to GPU\n",
        "      X = X.to(device)\n",
        "      y = y.to(device)\n",
        "\n",
        "      # forward pass and loss\n",
        "      yHat = net(X)\n",
        "      loss = lossfun(yHat,y)\n",
        "\n",
        "      # backprop\n",
        "      optimizer.zero_grad()\n",
        "      loss.backward()\n",
        "      optimizer.step()\n",
        "\n",
        "      # loss and accuracy from this batch\n",
        "      batchLoss.append(loss.item())\n",
        "      batchAcc.append( torch.mean((torch.argmax(yHat,axis=1) == y).float()).item() )\n",
        "    # end of batch loop...\n",
        "\n",
        "    # and get average losses and accuracies across the batches\n",
        "    trainLoss[epochi] = np.mean(batchLoss)\n",
        "    trainAcc[epochi]  = 100*np.mean(batchAcc)\n",
        "\n",
        "    # test performance (here done in batches!)\n",
        "    net.eval() # switch to test mode\n",
        "    batchLoss = []\n",
        "    batchAcc  = []\n",
        "\n",
        "    for X,y in test_loader:\n",
        "\n",
        "      # push data to GPU\n",
        "      X = X.to(device)\n",
        "      y = y.to(device)\n",
        "\n",
        "      # forward pass and loss\n",
        "      with torch.no_grad():\n",
        "        yHat = net(X)\n",
        "        loss = lossfun(yHat,y)\n",
        "\n",
        "      # loss and accuracy from this batch\n",
        "      batchLoss.append(loss.item())\n",
        "      batchAcc.append( torch.mean((torch.argmax(yHat,axis=1) == y).float()).item() )\n",
        "    # end of batch loop...\n",
        "\n",
        "    # and get average losses and accuracies across the batches\n",
        "    testLoss[epochi] = np.mean(batchLoss)\n",
        "    testAcc[epochi]  = 100*np.mean(batchAcc)\n",
        "\n",
        "  # end epochs\n",
        "\n",
        "  # function output\n",
        "  return trainLoss,testLoss,trainAcc,testAcc,net"
      ],
      "metadata": {
        "id": "99roppngwAMf"
      },
      "execution_count": null,
      "outputs": []
    },
    {
      "cell_type": "code",
      "source": [
        "# train the classifier from scratch (not pre-trained!)\n",
        "\n",
        "# create a naive network\n",
        "naivenet,lossfun,optimizer = makeTheClassNet()\n",
        "\n",
        "# train it from scratch\n",
        "trainLossNaive,testLossNaive,trainAccNaive,testAccNaive,naivenet = function2trainTheClassModel(\n",
        "    naivenet,lossfun,optimizer,train_loaderSmall,test_loaderSmall)"
      ],
      "metadata": {
        "id": "sSx2oYZWwQUA"
      },
      "execution_count": null,
      "outputs": []
    },
    {
      "cell_type": "code",
      "source": [
        "fig,ax = plt.subplots(1,2,figsize=(16,5))\n",
        "\n",
        "ax[0].plot(trainLossNaive,'s-',label='Train')\n",
        "ax[0].plot(testLossNaive,'o-',label='Test')\n",
        "ax[0].set_xlabel('Epochs')\n",
        "ax[0].set_ylabel('Loss (MSE)')\n",
        "ax[0].set_title('Model loss')\n",
        "\n",
        "ax[1].plot(trainAccNaive,'s-',label='Train')\n",
        "ax[1].plot(testAccNaive,'o-',label='Test')\n",
        "ax[1].set_xlabel('Epochs')\n",
        "ax[1].set_ylabel('Accuracy (%)')\n",
        "ax[1].set_title(f'Final model test accuracy: {testAccNaive[-1]:.2f}%')\n",
        "ax[1].legend()\n",
        "\n",
        "plt.show()"
      ],
      "metadata": {
        "id": "wg0JkJMXwnD4"
      },
      "execution_count": null,
      "outputs": []
    },
    {
      "cell_type": "markdown",
      "source": [
        "# Build a new classifier but replace the convolutional layers with encoding layers:"
      ],
      "metadata": {
        "id": "nCA67VqMwph9"
      }
    },
    {
      "cell_type": "code",
      "source": [
        "# create a new network (weights replaced below)\n",
        "pretrainNet,lossfun,optimizer = makeTheClassNet() # NOTE: a fresh model with random initialized weights\n",
        "\n",
        "# replace the conv weights in TARGET model from encoder weights in SOURCE model\n",
        "for target,source in zip(pretrainNet.named_parameters(),aenet.named_parameters()):\n",
        "  print('PRETRAIN: ' + target[0] + '  AENET: ' + source[0])\n",
        "\n",
        "  if 'enc' in target[0]:\n",
        "\n",
        "    # copy over the parameters...\n",
        "    target[1].data = copy.deepcopy( source[1].data )\n",
        "\n",
        "    # ...and then freeze that layer\n",
        "    # target[1].requires_grad = False"
      ],
      "metadata": {
        "id": "T0A9OB1WxB-L"
      },
      "execution_count": null,
      "outputs": []
    },
    {
      "cell_type": "code",
      "source": [
        "# double-check that they match\n",
        "pretrainNet.cpu().encconv1.weight[10] - aenet.encconv1.weight[10]"
      ],
      "metadata": {
        "id": "kD2DDgufxGf2"
      },
      "execution_count": null,
      "outputs": []
    },
    {
      "cell_type": "code",
      "source": [
        "# train the pretrained model\n",
        "\n",
        "# training\n",
        "trainLossPre,testLossPre,trainAccPre,testAccPre,pretrainNet = function2trainTheClassModel(\n",
        "    pretrainNet,lossfun,optimizer,train_loaderSmall,test_loaderSmall)"
      ],
      "metadata": {
        "id": "ss46DhvBxIA-"
      },
      "execution_count": null,
      "outputs": []
    },
    {
      "cell_type": "code",
      "source": [
        "fig,ax = plt.subplots(1,2,figsize=(16,5))\n",
        "\n",
        "ax[0].plot(trainLossPre,'rs-',label='PRE Train')\n",
        "ax[0].plot(testLossPre,'ro--',label='PRE Test')\n",
        "ax[0].plot(trainLossNaive,'bs-',label='NAIVE Train')\n",
        "ax[0].plot(testLossNaive,'bo--',label='NAIVE Test')\n",
        "ax[0].set_xlabel('Epochs')\n",
        "ax[0].set_ylabel('Loss (MSE)')\n",
        "ax[0].set_title('Model loss')\n",
        "ax[0].legend()\n",
        "\n",
        "ax[1].plot(trainAccPre,'rs-',label='PRE Train')\n",
        "ax[1].plot(testAccPre,'ro--',label='PRE Test')\n",
        "ax[1].plot(trainAccNaive,'bs-',label='NAIVE Train')\n",
        "ax[1].plot(testAccNaive,'bo--',label='NAIVE Test')\n",
        "ax[1].set_xlabel('Epochs')\n",
        "ax[1].set_ylabel('Accuracy (%)')\n",
        "ax[1].set_title(f'Final NaiveTest/PREtest accuracy: {testAccNaive[-1]:.2f}/{testAccPre[-1]:.2f}%')\n",
        "ax[1].legend()\n",
        "\n",
        "plt.show()"
      ],
      "metadata": {
        "id": "wZykNEEjxSF9"
      },
      "execution_count": null,
      "outputs": []
    }
  ]
}