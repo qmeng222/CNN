{
  "nbformat": 4,
  "nbformat_minor": 0,
  "metadata": {
    "colab": {
      "provenance": [],
      "authorship_tag": "ABX9TyMsWv3ZVNDzo38EsC3iJ1Dg",
      "include_colab_link": true
    },
    "kernelspec": {
      "name": "python3",
      "display_name": "Python 3"
    },
    "language_info": {
      "name": "python"
    }
  },
  "cells": [
    {
      "cell_type": "markdown",
      "metadata": {
        "id": "view-in-github",
        "colab_type": "text"
      },
      "source": [
        "<a href=\"https://colab.research.google.com/github/qmeng222/CNN/blob/main/convolution/convolution_parameters.ipynb\" target=\"_parent\"><img src=\"https://colab.research.google.com/assets/colab-badge.svg\" alt=\"Open In Colab\"/></a>"
      ]
    },
    {
      "cell_type": "code",
      "execution_count": 4,
      "metadata": {
        "id": "Vn5qibWUOh4j"
      },
      "outputs": [],
      "source": [
        "import numpy as np\n",
        "import torch\n",
        "import torch.nn as nn"
      ]
    },
    {
      "cell_type": "markdown",
      "source": [
        "# Sample problem:\n",
        "Convolve an image of size 1x256x256 to produce a 1x252x84 result"
      ],
      "metadata": {
        "id": "ss0tS26FO27F"
      }
    },
    {
      "cell_type": "code",
      "source": [
        "# parameters:\n",
        "inChans  = 1 # given by problem\n",
        "imsize   = [256,256]\n",
        "outChans = 1\n",
        "krnSize  = 7\n",
        "stride   = (1,3) # (W, H), no striding on the width\n",
        "padding  = 1\n",
        "\n",
        "# c is an instance of 2D convolution class:\n",
        "c = nn.Conv2d(inChans,outChans,krnSize,stride,padding)\n",
        "\n",
        "# create an image:\n",
        "img = torch.rand(1,inChans,imsize[0],imsize[1]) # (1, inChans, imsize[0], imsize[1])\n",
        "\n",
        "# run convolution:\n",
        "resimg = c(img) # feature map\n",
        "print(resimg.shape) # (1, outChans, H, W) -> [1, 1, 252, 84]\n",
        "empSize = torch.squeeze(resimg).shape # reduce the dim of resimg by removing any dimensions with a size of 1\n",
        "print(empSize) # [252, 84]\n",
        "\n",
        "# compute the size of the result according to the formula: expectSize = (outChans, H, W)\n",
        "expectSize = np.array([outChans,0,0],dtype=int)\n",
        "expectSize[1] = np.floor( (imsize[0]+2*padding-krnSize)/stride[0] ) + 1\n",
        "expectSize[2] = np.floor( (imsize[1]+2*padding-krnSize)/stride[1] ) + 1\n",
        "\n",
        "# check the size of the output\n",
        "print(f'Expected size: {expectSize}')\n",
        "print(f'Empirical size: {list(empSize)}')"
      ],
      "metadata": {
        "colab": {
          "base_uri": "https://localhost:8080/"
        },
        "id": "NLbWurH5O8_5",
        "outputId": "ae9affb1-31d3-450d-ef63-f3d76326cded"
      },
      "execution_count": 5,
      "outputs": [
        {
          "output_type": "stream",
          "name": "stdout",
          "text": [
            "torch.Size([1, 1, 252, 84])\n",
            "torch.Size([252, 84])\n",
            "Expected size: [  1 252  84]\n",
            "Empirical size: [252, 84]\n"
          ]
        }
      ]
    },
    {
      "cell_type": "markdown",
      "source": [
        "# Real problem 1:\n",
        "Convolve an image of size 3x64x64 to produce a 10x28x28 result"
      ],
      "metadata": {
        "id": "kQIIIQLTm2NN"
      }
    },
    {
      "cell_type": "code",
      "source": [
        "# parameters\n",
        "inChans  = 3\n",
        "imsize   = [64, 64]\n",
        "outChans = 10\n",
        "krnSize  = 9\n",
        "stride   = (2, 2)\n",
        "padding  = 0\n",
        "\n",
        "# create the instance\n",
        "c = nn.Conv2d(inChans,outChans,krnSize,stride,padding)\n",
        "\n",
        "# create an image\n",
        "img = torch.rand(1,inChans,imsize[0],imsize[1])\n",
        "\n",
        "# run convolution and compute its shape\n",
        "resimg = c(img)\n",
        "empSize = torch.squeeze(resimg).shape\n",
        "\n",
        "# compute the size of the result according to the formula\n",
        "expectSize = np.array([outChans,0,0],dtype=int)\n",
        "expectSize[1] = np.floor( (imsize[0]+2*padding-krnSize)/stride[0] ) + 1\n",
        "expectSize[2] = np.floor( (imsize[1]+2*padding-krnSize)/stride[1] ) + 1\n",
        "\n",
        "# check the size of the output\n",
        "print(f'Expected size: {expectSize}')\n",
        "print(f'Empirical size: {list(empSize)}')"
      ],
      "metadata": {
        "colab": {
          "base_uri": "https://localhost:8080/"
        },
        "id": "ZgIcbc4Xm_85",
        "outputId": "cfd58f41-f193-4ae7-8e08-559a14201c15"
      },
      "execution_count": 8,
      "outputs": [
        {
          "output_type": "stream",
          "name": "stdout",
          "text": [
            "Expected size: [10 28 28]\n",
            "Empirical size: [10, 28, 28]\n"
          ]
        }
      ]
    },
    {
      "cell_type": "markdown",
      "source": [
        "# Real problem 2:\n",
        "Convolve an image of size 3x196x96 to produce a 5x96x46 result"
      ],
      "metadata": {
        "id": "lQGCmMPLqFnC"
      }
    },
    {
      "cell_type": "code",
      "source": [
        "# parameters\n",
        "inChans  = 3\n",
        "imsize   = [196, 96]\n",
        "outChans = 5\n",
        "krnSize  = 5\n",
        "stride   = (2, 2)\n",
        "padding  = 0\n",
        "\n",
        "# create the instance\n",
        "c = nn.Conv2d(inChans,outChans,krnSize,stride,padding)\n",
        "\n",
        "# create an image\n",
        "img = torch.rand(1,inChans,imsize[0],imsize[1])\n",
        "\n",
        "# run convolution and compute its shape\n",
        "resimg = c(img)\n",
        "empSize = torch.squeeze(resimg).shape\n",
        "\n",
        "# compute the size of the result according to the formula\n",
        "expectSize = np.array([outChans,0,0],dtype=int)\n",
        "expectSize[1] = np.floor( (imsize[0]+2*padding-krnSize)/stride[0] ) + 1\n",
        "expectSize[2] = np.floor( (imsize[1]+2*padding-krnSize)/stride[1] ) + 1\n",
        "\n",
        "# check the size of the output\n",
        "print(f'Expected size: {expectSize}')\n",
        "print(f'Empirical size: {list(empSize)}')"
      ],
      "metadata": {
        "colab": {
          "base_uri": "https://localhost:8080/"
        },
        "id": "6xz63oERqOkg",
        "outputId": "1869ed1b-499a-4f62-b82e-07a9875cdde9"
      },
      "execution_count": 9,
      "outputs": [
        {
          "output_type": "stream",
          "name": "stdout",
          "text": [
            "Expected size: [ 5 96 46]\n",
            "Empirical size: [5, 96, 46]\n"
          ]
        }
      ]
    }
  ]
}