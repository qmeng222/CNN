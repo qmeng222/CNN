{
  "nbformat": 4,
  "nbformat_minor": 0,
  "metadata": {
    "colab": {
      "provenance": [],
      "gpuType": "T4",
      "authorship_tag": "ABX9TyObOgkZqcIJVJjh7j16kIYX",
      "include_colab_link": true
    },
    "kernelspec": {
      "name": "python3",
      "display_name": "Python 3"
    },
    "language_info": {
      "name": "python"
    },
    "accelerator": "GPU"
  },
  "cells": [
    {
      "cell_type": "markdown",
      "metadata": {
        "id": "view-in-github",
        "colab_type": "text"
      },
      "source": [
        "<a href=\"https://colab.research.google.com/github/qmeng222/CNN/blob/main/GPU/GPU_implement.ipynb\" target=\"_parent\"><img src=\"https://colab.research.google.com/assets/colab-badge.svg\" alt=\"Open In Colab\"/></a>"
      ]
    },
    {
      "cell_type": "markdown",
      "source": [
        "# Activate GPU:\n",
        "\n",
        "To run models on a GPU :\n",
        "-> Runtime -> Change runtime type -> Hardware accelerator -> GPU"
      ],
      "metadata": {
        "id": "esMU7kEId-d7"
      }
    },
    {
      "cell_type": "code",
      "execution_count": 25,
      "metadata": {
        "id": "CHW8jxuidcRC"
      },
      "outputs": [],
      "source": [
        "import torch\n",
        "import torch.nn as nn\n",
        "import matplotlib.pyplot as plt\n",
        "import time"
      ]
    },
    {
      "cell_type": "code",
      "source": [
        "# use GPU:\n",
        "device = torch.device('cuda:0' if torch.cuda.is_available() else 'cpu')\n",
        "print(device)"
      ],
      "metadata": {
        "colab": {
          "base_uri": "https://localhost:8080/"
        },
        "id": "lBjjfeIne7cS",
        "outputId": "318273f7-eb25-445c-f486-a1af850d0013"
      },
      "execution_count": 26,
      "outputs": [
        {
          "output_type": "stream",
          "name": "stdout",
          "text": [
            "cuda:0\n"
          ]
        }
      ]
    },
    {
      "cell_type": "markdown",
      "source": [
        "👆 Now I have a GPU available to use."
      ],
      "metadata": {
        "id": "IDlrtaX4fbBs"
      }
    },
    {
      "cell_type": "markdown",
      "source": [
        "# Create model and data on CPU:"
      ],
      "metadata": {
        "id": "cQrzptNQmh39"
      }
    },
    {
      "cell_type": "code",
      "source": [
        "# build a simple model:\n",
        "net = nn.Sequential(\n",
        "    nn.Linear(20,100),\n",
        "    nn.ReLU(),\n",
        "    nn.Linear(100,500),\n",
        "    nn.ReLU(),\n",
        "    nn.Linear(500,30),\n",
        "    nn.ReLU(),\n",
        "    nn.Linear(30,2)\n",
        ")"
      ],
      "metadata": {
        "id": "70jPGBo3foUC"
      },
      "execution_count": 27,
      "outputs": []
    },
    {
      "cell_type": "code",
      "source": [
        "# make some data on CPU:\n",
        "data   = torch.randn((1000,20)) # samples x features\n",
        "labels = torch.randint(low=0,high=2,size=(1,1000)) # creates a torch tensor with a shape of (1,1000) filled with randomly generated integers in the range of [0,2)\n",
        "\n",
        "print(type(data))\n",
        "print(data.shape)\n",
        "\n",
        "print(type(labels))\n",
        "print(labels.shape)"
      ],
      "metadata": {
        "colab": {
          "base_uri": "https://localhost:8080/"
        },
        "id": "H_F1P1bdf6Wb",
        "outputId": "992f538d-dd0e-4235-dbc2-fda9d626d81c"
      },
      "execution_count": 28,
      "outputs": [
        {
          "output_type": "stream",
          "name": "stdout",
          "text": [
            "<class 'torch.Tensor'>\n",
            "torch.Size([1000, 20])\n",
            "<class 'torch.Tensor'>\n",
            "torch.Size([1, 1000])\n"
          ]
        }
      ]
    },
    {
      "cell_type": "markdown",
      "source": [
        "# Send model and data from CPU to GPU:"
      ],
      "metadata": {
        "id": "nojYNj2glDJB"
      }
    },
    {
      "cell_type": "code",
      "source": [
        "# send the model and data to GPU (CPU -> GPU):\n",
        "\n",
        "# model\n",
        "net.to(device)\n",
        "\n",
        "# data\n",
        "data   = data.to(device)\n",
        "labels = labels.to(device)"
      ],
      "metadata": {
        "id": "FXf7xdyYg0Pf"
      },
      "execution_count": 29,
      "outputs": []
    },
    {
      "cell_type": "code",
      "source": [
        "print(data.shape)\n",
        "print(data)"
      ],
      "metadata": {
        "colab": {
          "base_uri": "https://localhost:8080/"
        },
        "id": "3peyvlqNkQLW",
        "outputId": "16de4625-e6e0-4a05-ed57-fd0e86b4f4cb"
      },
      "execution_count": 30,
      "outputs": [
        {
          "output_type": "stream",
          "name": "stdout",
          "text": [
            "torch.Size([1000, 20])\n",
            "tensor([[ 1.8209, -0.0462,  0.1738,  ..., -0.3826,  0.6492,  0.5086],\n",
            "        [ 1.4367,  1.0612,  0.4366,  ..., -0.5157,  0.6424,  0.1084],\n",
            "        [-0.9657,  0.4175, -0.8159,  ..., -1.2762,  0.0296, -0.1135],\n",
            "        ...,\n",
            "        [ 1.1620, -0.0646,  1.4039,  ...,  0.5671, -1.4450, -0.2399],\n",
            "        [ 2.3070,  0.6808, -0.3905,  ...,  0.4983, -1.1927,  1.0203],\n",
            "        [ 0.8552,  0.7828, -0.9215,  ..., -1.0548, -0.8057,  1.6183]],\n",
            "       device='cuda:0')\n"
          ]
        }
      ]
    },
    {
      "cell_type": "markdown",
      "source": [
        "# Create data directly on GPU:"
      ],
      "metadata": {
        "id": "Qd26rajklIT1"
      }
    },
    {
      "cell_type": "code",
      "source": [
        "# or create data directly on the GPU:\n",
        "dataG = torch.randn((1000,20),device=device) # print(device) -> 'cuda:0'\n",
        "dataC = torch.randn((1000,20),device='cpu')\n",
        "\n",
        "print(data.device)\n",
        "print(dataG.device)\n",
        "print(dataC.device)"
      ],
      "metadata": {
        "colab": {
          "base_uri": "https://localhost:8080/"
        },
        "id": "nlUZG9B8lO9S",
        "outputId": "3b8692eb-9830-4264-a8c8-b76acfec15c9"
      },
      "execution_count": 31,
      "outputs": [
        {
          "output_type": "stream",
          "name": "stdout",
          "text": [
            "cuda:0\n",
            "cuda:0\n",
            "cpu\n"
          ]
        }
      ]
    },
    {
      "cell_type": "markdown",
      "source": [
        "# Getting results from the model:"
      ],
      "metadata": {
        "id": "4IqWyTVrm-Mn"
      }
    },
    {
      "cell_type": "code",
      "source": [
        "output = net(data)\n",
        "output.device"
      ],
      "metadata": {
        "colab": {
          "base_uri": "https://localhost:8080/"
        },
        "id": "keETz8kgnA7B",
        "outputId": "f60ecc35-a1b6-4018-89ab-e15e6944f3dd"
      },
      "execution_count": 32,
      "outputs": [
        {
          "output_type": "execute_result",
          "data": {
            "text/plain": [
              "device(type='cuda', index=0)"
            ]
          },
          "metadata": {},
          "execution_count": 32
        }
      ]
    },
    {
      "cell_type": "code",
      "source": [
        "# plot the results:\n",
        "plt.plot(output.detach().cpu());"
      ],
      "metadata": {
        "colab": {
          "base_uri": "https://localhost:8080/",
          "height": 430
        },
        "id": "n4JXUboHnLf-",
        "outputId": "3254bffe-8acf-4299-ad84-042fe9b746be"
      },
      "execution_count": 33,
      "outputs": [
        {
          "output_type": "display_data",
          "data": {
            "text/plain": [
              "<Figure size 640x480 with 1 Axes>"
            ],
            "image/png": "[encoded data removed]"
          },
          "metadata": {}
        }
      ]
    },
    {
      "cell_type": "markdown",
      "source": [
        "# Calculate computation time:"
      ],
      "metadata": {
        "id": "lREXDFKUoKih"
      }
    },
    {
      "cell_type": "code",
      "source": [
        "# 1. when device ='gpu':\n",
        "\n",
        "# start the clock (CPU):\n",
        "starttime = time.process_time()\n",
        "\n",
        "# move & run (GPU):\n",
        "device = 'cuda:0'\n",
        "net = net.to(device)\n",
        "data   = data.to(device)\n",
        "labels = labels.to(device)\n",
        "output = net(data).detach().cpu() # get output back to CPU!\n",
        "\n",
        "# stop the clock (CPU):\n",
        "GPUtime = 1000*(time.process_time() - starttime)"
      ],
      "metadata": {
        "id": "VKWwjBqRoJxl"
      },
      "execution_count": 35,
      "outputs": []
    },
    {
      "cell_type": "code",
      "source": [
        "# 2. when device ='cpu':\n",
        "\n",
        "# start the clock\n",
        "starttime = time.process_time()\n",
        "\n",
        "# move, run, retrieve\n",
        "device = 'cpu'\n",
        "net.to(device)\n",
        "data   = data.to(device)\n",
        "labels = labels.to(device)\n",
        "output = net(data).detach().cpu()\n",
        "\n",
        "# stop the clock\n",
        "CPUtime = 1000*(time.process_time() - starttime)"
      ],
      "metadata": {
        "id": "YkrVRNMNpKNw"
      },
      "execution_count": 36,
      "outputs": []
    },
    {
      "cell_type": "code",
      "source": [
        "# time in ms\n",
        "[CPUtime,GPUtime]"
      ],
      "metadata": {
        "colab": {
          "base_uri": "https://localhost:8080/"
        },
        "id": "pn592qCApMa9",
        "outputId": "f7985403-ed78-49a4-8ce4-58d9adacbcb8"
      },
      "execution_count": 37,
      "outputs": [
        {
          "output_type": "execute_result",
          "data": {
            "text/plain": [
              "[7.966088999999954, 2.948655000000855]"
            ]
          },
          "metadata": {},
          "execution_count": 37
        }
      ]
    },
    {
      "cell_type": "code",
      "source": [
        "device"
      ],
      "metadata": {
        "colab": {
          "base_uri": "https://localhost:8080/",
          "height": 35
        },
        "id": "YMtzDMgFqpuO",
        "outputId": "103fde88-0dc3-42d0-a724-3e4027c24a3f"
      },
      "execution_count": 38,
      "outputs": [
        {
          "output_type": "execute_result",
          "data": {
            "text/plain": [
              "'cpu'"
            ],
            "application/vnd.google.colaboratory.intrinsic+json": {
              "type": "string"
            }
          },
          "metadata": {},
          "execution_count": 38
        }
      ]
    },
    {
      "cell_type": "code",
      "source": [
        "# 3. everything stays on CPU:\n",
        "\n",
        "# recreate network and data\n",
        "net  = nn.Sequential(\n",
        "    nn.Linear(20,100),\n",
        "    nn.ReLU(),\n",
        "    nn.Linear(100,500),\n",
        "    nn.ReLU(),\n",
        "    nn.Linear(500,30),\n",
        "    nn.ReLU(),\n",
        "    nn.Linear(30,2)\n",
        ")\n",
        "data = torch.randn((1000,20))\n",
        "\n",
        "# rerun the experiment\n",
        "starttime = time.process_time()\n",
        "output    = net(data).detach()\n",
        "CPUtime2  = 1000*(time.process_time() - starttime)\n",
        "\n",
        "# report the results\n",
        "[CPUtime2,CPUtime,GPUtime]"
      ],
      "metadata": {
        "colab": {
          "base_uri": "https://localhost:8080/"
        },
        "id": "FTRVV7j_pNEC",
        "outputId": "b6bdb6cc-e2f5-4e86-b87c-7beaff4c5d04"
      },
      "execution_count": 39,
      "outputs": [
        {
          "output_type": "execute_result",
          "data": {
            "text/plain": [
              "[7.095230000000896, 7.966088999999954, 2.948655000000855]"
            ]
          },
          "metadata": {},
          "execution_count": 39
        }
      ]
    }
  ]
}